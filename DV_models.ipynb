{
 "cells": [
  {
   "cell_type": "markdown",
   "metadata": {},
   "source": [
    "## Rahul Rajput 19BCE1084\n",
    "\n",
    "## Garima Rout 19BCE1144"
   ]
  },
  {
   "cell_type": "code",
   "execution_count": 16,
   "metadata": {},
   "outputs": [],
   "source": [
    "%config IPCompleter.greedy=True"
   ]
  },
  {
   "cell_type": "code",
   "execution_count": 17,
   "metadata": {},
   "outputs": [
    {
     "name": "stdout",
     "output_type": "stream",
     "text": [
      "C:\\Users\\rahul\\anaconda3\\python.exe\n"
     ]
    }
   ],
   "source": [
    "import sys\n",
    "print(sys.executable)"
   ]
  },
  {
   "cell_type": "code",
   "execution_count": 18,
   "metadata": {},
   "outputs": [],
   "source": [
    "# Libraries used\n",
    "import pandas as pd\n",
    "import numpy as np\n",
    "import pandas_profiling as pp\n",
    "from IPython.core.display import display, HTML\n",
    "# from tqdm import tqdm_notebook.tqdm as tqdm\n",
    "from sklearn.preprocessing import LabelEncoder\n",
    "from sklearn import datasets, linear_model\n",
    "from sklearn.model_selection import train_test_split\n",
    "from matplotlib import pyplot as plt\n",
    "from sklearn.metrics import accuracy_score,f1_score, recall_score,precision_score\n",
    "from sklearn.metrics import roc_auc_score\n",
    "import seaborn as sns\n",
    "from sklearn.feature_selection import RFE\n",
    "from sklearn.linear_model import (LinearRegression, Ridge, Lasso)\n",
    "from sklearn.preprocessing import MinMaxScaler\n",
    "from sklearn.ensemble import RandomForestRegressor\n",
    "from sklearn.utils import resample\n",
    "%matplotlib inline\n",
    "# tqdm().pandas()"
   ]
  },
  {
   "cell_type": "code",
   "execution_count": 19,
   "metadata": {},
   "outputs": [],
   "source": [
    "src_file = \"zomato.csv\"\n",
    "data = pd.read_csv(src_file)"
   ]
  },
  {
   "cell_type": "code",
   "execution_count": 20,
   "metadata": {},
   "outputs": [
    {
     "data": {
      "text/html": [
       "<div>\n",
       "<style scoped>\n",
       "    .dataframe tbody tr th:only-of-type {\n",
       "        vertical-align: middle;\n",
       "    }\n",
       "\n",
       "    .dataframe tbody tr th {\n",
       "        vertical-align: top;\n",
       "    }\n",
       "\n",
       "    .dataframe thead th {\n",
       "        text-align: right;\n",
       "    }\n",
       "</style>\n",
       "<table border=\"1\" class=\"dataframe\">\n",
       "  <thead>\n",
       "    <tr style=\"text-align: right;\">\n",
       "      <th></th>\n",
       "      <th>url</th>\n",
       "      <th>address</th>\n",
       "      <th>name</th>\n",
       "      <th>online_order</th>\n",
       "      <th>book_table</th>\n",
       "      <th>rate</th>\n",
       "      <th>votes</th>\n",
       "      <th>phone</th>\n",
       "      <th>location</th>\n",
       "      <th>rest_type</th>\n",
       "      <th>dish_liked</th>\n",
       "      <th>cuisines</th>\n",
       "      <th>approx_cost(for two people)</th>\n",
       "      <th>reviews_list</th>\n",
       "      <th>menu_item</th>\n",
       "      <th>listed_in(type)</th>\n",
       "      <th>listed_in(city)</th>\n",
       "    </tr>\n",
       "  </thead>\n",
       "  <tbody>\n",
       "    <tr>\n",
       "      <th>0</th>\n",
       "      <td>https://www.zomato.com/bangalore/jalsa-banasha...</td>\n",
       "      <td>942, 21st Main Road, 2nd Stage, Banashankari, ...</td>\n",
       "      <td>Jalsa</td>\n",
       "      <td>Yes</td>\n",
       "      <td>Yes</td>\n",
       "      <td>4.1/5</td>\n",
       "      <td>775</td>\n",
       "      <td>080 42297555\\r\\n+91 9743772233</td>\n",
       "      <td>Banashankari</td>\n",
       "      <td>Casual Dining</td>\n",
       "      <td>Pasta, Lunch Buffet, Masala Papad, Paneer Laja...</td>\n",
       "      <td>North Indian, Mughlai, Chinese</td>\n",
       "      <td>800</td>\n",
       "      <td>[('Rated 4.0', 'RATED\\n  A beautiful place to ...</td>\n",
       "      <td>[]</td>\n",
       "      <td>Buffet</td>\n",
       "      <td>Banashankari</td>\n",
       "    </tr>\n",
       "    <tr>\n",
       "      <th>1</th>\n",
       "      <td>https://www.zomato.com/bangalore/spice-elephan...</td>\n",
       "      <td>2nd Floor, 80 Feet Road, Near Big Bazaar, 6th ...</td>\n",
       "      <td>Spice Elephant</td>\n",
       "      <td>Yes</td>\n",
       "      <td>No</td>\n",
       "      <td>4.1/5</td>\n",
       "      <td>787</td>\n",
       "      <td>080 41714161</td>\n",
       "      <td>Banashankari</td>\n",
       "      <td>Casual Dining</td>\n",
       "      <td>Momos, Lunch Buffet, Chocolate Nirvana, Thai G...</td>\n",
       "      <td>Chinese, North Indian, Thai</td>\n",
       "      <td>800</td>\n",
       "      <td>[('Rated 4.0', 'RATED\\n  Had been here for din...</td>\n",
       "      <td>[]</td>\n",
       "      <td>Buffet</td>\n",
       "      <td>Banashankari</td>\n",
       "    </tr>\n",
       "    <tr>\n",
       "      <th>2</th>\n",
       "      <td>https://www.zomato.com/SanchurroBangalore?cont...</td>\n",
       "      <td>1112, Next to KIMS Medical College, 17th Cross...</td>\n",
       "      <td>San Churro Cafe</td>\n",
       "      <td>Yes</td>\n",
       "      <td>No</td>\n",
       "      <td>3.8/5</td>\n",
       "      <td>918</td>\n",
       "      <td>+91 9663487993</td>\n",
       "      <td>Banashankari</td>\n",
       "      <td>Cafe, Casual Dining</td>\n",
       "      <td>Churros, Cannelloni, Minestrone Soup, Hot Choc...</td>\n",
       "      <td>Cafe, Mexican, Italian</td>\n",
       "      <td>800</td>\n",
       "      <td>[('Rated 3.0', \"RATED\\n  Ambience is not that ...</td>\n",
       "      <td>[]</td>\n",
       "      <td>Buffet</td>\n",
       "      <td>Banashankari</td>\n",
       "    </tr>\n",
       "    <tr>\n",
       "      <th>3</th>\n",
       "      <td>https://www.zomato.com/bangalore/addhuri-udupi...</td>\n",
       "      <td>1st Floor, Annakuteera, 3rd Stage, Banashankar...</td>\n",
       "      <td>Addhuri Udupi Bhojana</td>\n",
       "      <td>No</td>\n",
       "      <td>No</td>\n",
       "      <td>3.7/5</td>\n",
       "      <td>88</td>\n",
       "      <td>+91 9620009302</td>\n",
       "      <td>Banashankari</td>\n",
       "      <td>Quick Bites</td>\n",
       "      <td>Masala Dosa</td>\n",
       "      <td>South Indian, North Indian</td>\n",
       "      <td>300</td>\n",
       "      <td>[('Rated 4.0', \"RATED\\n  Great food and proper...</td>\n",
       "      <td>[]</td>\n",
       "      <td>Buffet</td>\n",
       "      <td>Banashankari</td>\n",
       "    </tr>\n",
       "    <tr>\n",
       "      <th>4</th>\n",
       "      <td>https://www.zomato.com/bangalore/grand-village...</td>\n",
       "      <td>10, 3rd Floor, Lakshmi Associates, Gandhi Baza...</td>\n",
       "      <td>Grand Village</td>\n",
       "      <td>No</td>\n",
       "      <td>No</td>\n",
       "      <td>3.8/5</td>\n",
       "      <td>166</td>\n",
       "      <td>+91 8026612447\\r\\n+91 9901210005</td>\n",
       "      <td>Basavanagudi</td>\n",
       "      <td>Casual Dining</td>\n",
       "      <td>Panipuri, Gol Gappe</td>\n",
       "      <td>North Indian, Rajasthani</td>\n",
       "      <td>600</td>\n",
       "      <td>[('Rated 4.0', 'RATED\\n  Very good restaurant ...</td>\n",
       "      <td>[]</td>\n",
       "      <td>Buffet</td>\n",
       "      <td>Banashankari</td>\n",
       "    </tr>\n",
       "  </tbody>\n",
       "</table>\n",
       "</div>"
      ],
      "text/plain": [
       "                                                 url  \\\n",
       "0  https://www.zomato.com/bangalore/jalsa-banasha...   \n",
       "1  https://www.zomato.com/bangalore/spice-elephan...   \n",
       "2  https://www.zomato.com/SanchurroBangalore?cont...   \n",
       "3  https://www.zomato.com/bangalore/addhuri-udupi...   \n",
       "4  https://www.zomato.com/bangalore/grand-village...   \n",
       "\n",
       "                                             address                   name  \\\n",
       "0  942, 21st Main Road, 2nd Stage, Banashankari, ...                  Jalsa   \n",
       "1  2nd Floor, 80 Feet Road, Near Big Bazaar, 6th ...         Spice Elephant   \n",
       "2  1112, Next to KIMS Medical College, 17th Cross...        San Churro Cafe   \n",
       "3  1st Floor, Annakuteera, 3rd Stage, Banashankar...  Addhuri Udupi Bhojana   \n",
       "4  10, 3rd Floor, Lakshmi Associates, Gandhi Baza...          Grand Village   \n",
       "\n",
       "  online_order book_table   rate  votes                             phone  \\\n",
       "0          Yes        Yes  4.1/5    775    080 42297555\\r\\n+91 9743772233   \n",
       "1          Yes         No  4.1/5    787                      080 41714161   \n",
       "2          Yes         No  3.8/5    918                    +91 9663487993   \n",
       "3           No         No  3.7/5     88                    +91 9620009302   \n",
       "4           No         No  3.8/5    166  +91 8026612447\\r\\n+91 9901210005   \n",
       "\n",
       "       location            rest_type  \\\n",
       "0  Banashankari        Casual Dining   \n",
       "1  Banashankari        Casual Dining   \n",
       "2  Banashankari  Cafe, Casual Dining   \n",
       "3  Banashankari          Quick Bites   \n",
       "4  Basavanagudi        Casual Dining   \n",
       "\n",
       "                                          dish_liked  \\\n",
       "0  Pasta, Lunch Buffet, Masala Papad, Paneer Laja...   \n",
       "1  Momos, Lunch Buffet, Chocolate Nirvana, Thai G...   \n",
       "2  Churros, Cannelloni, Minestrone Soup, Hot Choc...   \n",
       "3                                        Masala Dosa   \n",
       "4                                Panipuri, Gol Gappe   \n",
       "\n",
       "                         cuisines approx_cost(for two people)  \\\n",
       "0  North Indian, Mughlai, Chinese                         800   \n",
       "1     Chinese, North Indian, Thai                         800   \n",
       "2          Cafe, Mexican, Italian                         800   \n",
       "3      South Indian, North Indian                         300   \n",
       "4        North Indian, Rajasthani                         600   \n",
       "\n",
       "                                        reviews_list menu_item  \\\n",
       "0  [('Rated 4.0', 'RATED\\n  A beautiful place to ...        []   \n",
       "1  [('Rated 4.0', 'RATED\\n  Had been here for din...        []   \n",
       "2  [('Rated 3.0', \"RATED\\n  Ambience is not that ...        []   \n",
       "3  [('Rated 4.0', \"RATED\\n  Great food and proper...        []   \n",
       "4  [('Rated 4.0', 'RATED\\n  Very good restaurant ...        []   \n",
       "\n",
       "  listed_in(type) listed_in(city)  \n",
       "0          Buffet    Banashankari  \n",
       "1          Buffet    Banashankari  \n",
       "2          Buffet    Banashankari  \n",
       "3          Buffet    Banashankari  \n",
       "4          Buffet    Banashankari  "
      ]
     },
     "execution_count": 20,
     "metadata": {},
     "output_type": "execute_result"
    }
   ],
   "source": [
    "data.head()"
   ]
  },
  {
   "cell_type": "code",
   "execution_count": 21,
   "metadata": {},
   "outputs": [
    {
     "data": {
      "text/html": [
       "<h1>Columns data type</h1>"
      ],
      "text/plain": [
       "<IPython.core.display.HTML object>"
      ]
     },
     "metadata": {},
     "output_type": "display_data"
    },
    {
     "name": "stdout",
     "output_type": "stream",
     "text": [
      "url  :  object\n",
      "address  :  object\n",
      "name  :  object\n",
      "online_order  :  object\n",
      "book_table  :  object\n",
      "rate  :  object\n",
      "votes  :  int64\n",
      "phone  :  object\n",
      "location  :  object\n",
      "rest_type  :  object\n",
      "dish_liked  :  object\n",
      "cuisines  :  object\n",
      "approx_cost(for two people)  :  object\n",
      "reviews_list  :  object\n",
      "menu_item  :  object\n",
      "listed_in(type)  :  object\n",
      "listed_in(city)  :  object\n"
     ]
    }
   ],
   "source": [
    "display(HTML('<h1>Columns data type</h1>'))\n",
    "data_columns = data.columns.tolist()\n",
    "for i in data_columns:\n",
    "    print(i,\" : \",  data[i].dtype)"
   ]
  },
  {
   "cell_type": "code",
   "execution_count": 22,
   "metadata": {},
   "outputs": [],
   "source": [
    "# Renaming the column values\n",
    "column_name = {'usl':'url', \n",
    "               'address':'address',\n",
    "               'name':'name',  \n",
    "               'online_order':'netorder',\n",
    "               'book_table':'booktable', \n",
    "               'rate':'rating',\n",
    "               'votes':'votes', \n",
    "               'phone':'phone', \n",
    "               'location':'location', \n",
    "               'rest_type':'resttype', \n",
    "               'dish_liked':'dishliked', \n",
    "               'cuisines':'cuisines', \n",
    "               'approx_cost(for two people)':'cost', \n",
    "               'reviews_list':'reviews', \n",
    "               'menu_item':'menuitems', \n",
    "               'listed_in(type)':'listedin', \n",
    "               'listed_in(city)':'city'}"
   ]
  },
  {
   "cell_type": "code",
   "execution_count": 23,
   "metadata": {},
   "outputs": [],
   "source": [
    "data  = data.rename(columns= column_name)"
   ]
  },
  {
   "cell_type": "code",
   "execution_count": 24,
   "metadata": {},
   "outputs": [
    {
     "data": {
      "text/plain": [
       "url              0\n",
       "address          0\n",
       "name             0\n",
       "netorder         0\n",
       "booktable        0\n",
       "rating        7775\n",
       "votes            0\n",
       "phone         1208\n",
       "location        21\n",
       "resttype       227\n",
       "dishliked    28078\n",
       "cuisines        45\n",
       "cost           346\n",
       "reviews          0\n",
       "menuitems        0\n",
       "listedin         0\n",
       "city             0\n",
       "dtype: int64"
      ]
     },
     "execution_count": 24,
     "metadata": {},
     "output_type": "execute_result"
    }
   ],
   "source": [
    "data.isnull().sum()"
   ]
  },
  {
   "cell_type": "code",
   "execution_count": 25,
   "metadata": {},
   "outputs": [
    {
     "data": {
      "text/html": [
       "<h1>Percentage of Null Values</h1>"
      ],
      "text/plain": [
       "<IPython.core.display.HTML object>"
      ]
     },
     "metadata": {},
     "output_type": "display_data"
    },
    {
     "data": {
      "text/plain": [
       "url           0.000000\n",
       "address       0.000000\n",
       "name          0.000000\n",
       "netorder      0.000000\n",
       "booktable     0.000000\n",
       "rating       15.033741\n",
       "votes         0.000000\n",
       "phone         2.335789\n",
       "location      0.040606\n",
       "resttype      0.438927\n",
       "dishliked    54.291626\n",
       "cuisines      0.087012\n",
       "cost          0.669026\n",
       "reviews       0.000000\n",
       "menuitems     0.000000\n",
       "listedin      0.000000\n",
       "city          0.000000\n",
       "dtype: float64"
      ]
     },
     "execution_count": 25,
     "metadata": {},
     "output_type": "execute_result"
    }
   ],
   "source": [
    "display(HTML('<h1>Percentage of Null Values</h1>'))\n",
    "data.isnull().sum()*100/data.shape[0]"
   ]
  },
  {
   "cell_type": "code",
   "execution_count": 26,
   "metadata": {},
   "outputs": [
    {
     "data": {
      "image/png": "[encoded data removed]",
      "text/plain": [
       "<Figure size 1440x720 with 1 Axes>"
      ]
     },
     "metadata": {
      "needs_background": "light"
     },
     "output_type": "display_data"
    }
   ],
   "source": [
    "plt.figure(figsize=(20,10))\n",
    "outlets = data['name'].value_counts()[:10]\n",
    "sns.barplot(x = outlets.index, y = outlets, palette='deep')\n",
    "plt.title(\"Famous restaurants chains\")\n",
    "plt.ylabel(\"Number of outlets\")\n",
    "plt.savefig(\"famous-restaurants-chains.png\")\n",
    "plt.show()\n"
   ]
  },
  {
   "cell_type": "code",
   "execution_count": 27,
   "metadata": {},
   "outputs": [
    {
     "data": {
      "image/png": "[encoded data removed]",
      "text/plain": [
       "<Figure size 1440x720 with 1 Axes>"
      ]
     },
     "metadata": {
      "needs_background": "light"
     },
     "output_type": "display_data"
    }
   ],
   "source": [
    "plt.figure(figsize=(20,10))\n",
    "outlets = data['city'].value_counts()[:8]\n",
    "sns.barplot(y = outlets.index, x = outlets, palette='deep')\n",
    "plt.title(\"Most Restaurants present in which city\")\n",
    "plt.xlabel(\"Number of Restaurants\")\n",
    "plt.savefig(\"most-restaurants-city.png\")\n",
    "plt.show()"
   ]
  },
  {
   "cell_type": "markdown",
   "metadata": {},
   "source": [
    "### Here Items are pruned on basis that usability and necessity to contribute in analysis"
   ]
  },
  {
   "cell_type": "code",
   "execution_count": 28,
   "metadata": {},
   "outputs": [],
   "source": [
    "prune_items = ['url', 'address', 'name', 'phone', 'location',  'dishliked', 'menuitems']\n",
    "data =  data.drop(prune_items, axis=1)"
   ]
  },
  {
   "cell_type": "code",
   "execution_count": 29,
   "metadata": {},
   "outputs": [],
   "source": [
    "# Removing the rating\n",
    "data.rating = data.rating.str[:3]"
   ]
  },
  {
   "cell_type": "code",
   "execution_count": 30,
   "metadata": {},
   "outputs": [],
   "source": [
    "# Storing the data temporary\n",
    "df = data[:]"
   ]
  },
  {
   "cell_type": "markdown",
   "metadata": {},
   "source": [
    "### Function to fill empty rating values from the reviews by rating"
   ]
  },
  {
   "cell_type": "code",
   "execution_count": 31,
   "metadata": {},
   "outputs": [],
   "source": [
    "def rating_is_null():\n",
    "    reviews= {}\n",
    "    null_brackets = []\n",
    "    rating_null_index = df[df['rating'].isnull()].index.tolist()\n",
    "    #print('null index: ', rating_null_index)\n",
    "    for null_indexes in rating_null_index:\n",
    "        temp_rev = df['reviews'][null_indexes]\n",
    "        if temp_rev == '[]':\n",
    "            null_brackets.append(null_indexes)\n",
    "        elif type(temp_rev) == str:\n",
    "            review_index = [i for i in range(len(temp_rev)) if temp_rev.startswith('(\\'Rated ', i)]\n",
    "            scores = [float(temp_rev[i+7:i+10]) for i in review_index]\n",
    "            #print(np.mean(scores))\n",
    "            df.loc[null_indexes, 'rating'] = round(np.mean(scores), 2)\n",
    "    return null_brackets\n",
    "    \n",
    "    "
   ]
  },
  {
   "cell_type": "code",
   "execution_count": 32,
   "metadata": {},
   "outputs": [],
   "source": [
    "rating_still_null = rating_is_null()"
   ]
  },
  {
   "cell_type": "code",
   "execution_count": 33,
   "metadata": {},
   "outputs": [
    {
     "data": {
      "text/plain": [
       "[4, 3, 2, 1]\n",
       "Categories (4, int64): [1 < 2 < 3 < 4]"
      ]
     },
     "execution_count": 33,
     "metadata": {},
     "output_type": "execute_result"
    }
   ],
   "source": [
    "df['rating'] =  df['rating'].replace( to_replace =['NEW', '-'], value =np.nan)\n",
    "df['rating'] =  df['rating'].fillna(df['rating'].mode()[0])\n",
    "df['rating'] =  df['rating'].astype(float)\n",
    "df['rating'] =  pd.cut(df['rating'], 4, labels=[1,2,3,4])\n",
    "df['rating'].unique()"
   ]
  },
  {
   "cell_type": "code",
   "execution_count": 34,
   "metadata": {},
   "outputs": [],
   "source": [
    "df = df.dropna()\n",
    "df = df.drop('reviews', axis=1)\n",
    "df = df.reset_index()"
   ]
  },
  {
   "cell_type": "code",
   "execution_count": 35,
   "metadata": {},
   "outputs": [
    {
     "data": {
      "text/plain": [
       "index        0\n",
       "netorder     0\n",
       "booktable    0\n",
       "rating       0\n",
       "votes        0\n",
       "resttype     0\n",
       "cuisines     0\n",
       "cost         0\n",
       "listedin     0\n",
       "city         0\n",
       "dtype: int64"
      ]
     },
     "execution_count": 35,
     "metadata": {},
     "output_type": "execute_result"
    }
   ],
   "source": [
    "df.isnull().sum()"
   ]
  },
  {
   "cell_type": "markdown",
   "metadata": {},
   "source": [
    "### Creating asymmetric data of compound columns"
   ]
  },
  {
   "cell_type": "code",
   "execution_count": 36,
   "metadata": {},
   "outputs": [],
   "source": [
    "def createSimpleColumns(c_name):\n",
    "    restype_unique = df[c_name].unique().tolist()\n",
    "    final_resttype = []\n",
    "    for i in restype_unique:\n",
    "        if(i.find(',') != -1):\n",
    "            temp = i.split(',')\n",
    "            for j in temp:\n",
    "                final_resttype.append(j.strip().replace(\" \", \"_\"))\n",
    "        else:\n",
    "            final_resttype.append(i.strip().replace(\" \", \"_\"))\n",
    "            \n",
    "    final_resttype = list(frozenset(final_resttype))\n",
    "    restype_datalist = df[c_name].tolist()\n",
    "    df_resttype = pd.DataFrame(0, index=np.arange(len(restype_datalist)),columns=final_resttype)\n",
    "    c = 0\n",
    "\n",
    "    for i in tqdm(restype_datalist):\n",
    "        k = []\n",
    "        if (i.find(',') != -1):\n",
    "            temp = i.split(',')\n",
    "            for j in temp:\n",
    "                j = j.strip()\n",
    "                k.append(j)\n",
    "        else:\n",
    "            k.append(i.strip())\n",
    "        df_resttype.loc[c] = np.isin(final_resttype, k).astype(int)\n",
    "        c+=1\n",
    "    return df_resttype, final_resttype"
   ]
  },
  {
   "cell_type": "code",
   "execution_count": 37,
   "metadata": {},
   "outputs": [
    {
     "name": "stderr",
     "output_type": "stream",
     "text": [
      "<ipython-input-36-4e77a68b6dbf>:17: TqdmDeprecationWarning: This function will be removed in tqdm==5.0.0\n",
      "Please use `tqdm.notebook.tqdm` instead of `tqdm.tqdm_notebook`\n",
      "  for i in tqdm(restype_datalist):\n"
     ]
    },
    {
     "data": {
      "application/vnd.jupyter.widget-view+json": {
       "model_id": "060f8c26bd77401daa55e6938302c19e",
       "version_major": 2,
       "version_minor": 0
      },
      "text/plain": [
       "  0%|          | 0/51148 [00:00<?, ?it/s]"
      ]
     },
     "metadata": {},
     "output_type": "display_data"
    },
    {
     "data": {
      "application/vnd.jupyter.widget-view+json": {
       "model_id": "a89bfc239f6047b9bfde5322259b2a79",
       "version_major": 2,
       "version_minor": 0
      },
      "text/plain": [
       "  0%|          | 0/51148 [00:00<?, ?it/s]"
      ]
     },
     "metadata": {},
     "output_type": "display_data"
    }
   ],
   "source": [
    "df_resttype,list_resttype = createSimpleColumns('resttype')\n",
    "df_cuisines, list_cuisines = createSimpleColumns('cuisines')\n",
    "df_resttype.rename(columns={'Cafe':'Rest_Cafe', 'Bakery':'Rest_Bakery'}, inplace=True)\n",
    "d_res_cus = pd.merge(df_resttype, df_cuisines, left_index=True, right_index=True)\n",
    "df = pd.merge(df, d_res_cus, left_index=True, right_index=True)"
   ]
  },
  {
   "cell_type": "code",
   "execution_count": 38,
   "metadata": {},
   "outputs": [],
   "source": [
    "df  = df.drop('resttype', axis = 1)\n",
    "df  = df.drop('cuisines', axis = 1)\n",
    "# df  = df.drop(['level_0','index'], axis = 1)\n",
    "df = df.drop('index', axis=1)"
   ]
  },
  {
   "cell_type": "code",
   "execution_count": 39,
   "metadata": {},
   "outputs": [],
   "source": [
    "df['netorder']  = df['netorder'].replace(to_replace=['No', 'Yes'], value=[0, 1])\n",
    "df['booktable'] = df['booktable'].replace(to_replace=['No', 'Yes'], value=[0, 1])"
   ]
  },
  {
   "cell_type": "code",
   "execution_count": 40,
   "metadata": {},
   "outputs": [
    {
     "data": {
      "text/html": [
       "<div>\n",
       "<style scoped>\n",
       "    .dataframe tbody tr th:only-of-type {\n",
       "        vertical-align: middle;\n",
       "    }\n",
       "\n",
       "    .dataframe tbody tr th {\n",
       "        vertical-align: top;\n",
       "    }\n",
       "\n",
       "    .dataframe thead th {\n",
       "        text-align: right;\n",
       "    }\n",
       "</style>\n",
       "<table border=\"1\" class=\"dataframe\">\n",
       "  <thead>\n",
       "    <tr style=\"text-align: right;\">\n",
       "      <th></th>\n",
       "      <th>netorder</th>\n",
       "      <th>booktable</th>\n",
       "      <th>rating</th>\n",
       "      <th>votes</th>\n",
       "      <th>cost</th>\n",
       "      <th>listedin</th>\n",
       "      <th>city</th>\n",
       "      <th>Sweet_Shop</th>\n",
       "      <th>Lounge</th>\n",
       "      <th>Mess</th>\n",
       "      <th>...</th>\n",
       "      <th>South_American</th>\n",
       "      <th>Street_Food</th>\n",
       "      <th>Grill</th>\n",
       "      <th>Coffee</th>\n",
       "      <th>Steak</th>\n",
       "      <th>Hot_dogs</th>\n",
       "      <th>British</th>\n",
       "      <th>Raw_Meats</th>\n",
       "      <th>Iranian</th>\n",
       "      <th>Vietnamese</th>\n",
       "    </tr>\n",
       "  </thead>\n",
       "  <tbody>\n",
       "    <tr>\n",
       "      <th>0</th>\n",
       "      <td>1</td>\n",
       "      <td>1</td>\n",
       "      <td>4</td>\n",
       "      <td>775</td>\n",
       "      <td>800</td>\n",
       "      <td>Buffet</td>\n",
       "      <td>Banashankari</td>\n",
       "      <td>0</td>\n",
       "      <td>0</td>\n",
       "      <td>0</td>\n",
       "      <td>...</td>\n",
       "      <td>0</td>\n",
       "      <td>0</td>\n",
       "      <td>0</td>\n",
       "      <td>0</td>\n",
       "      <td>0</td>\n",
       "      <td>0</td>\n",
       "      <td>0</td>\n",
       "      <td>0</td>\n",
       "      <td>0</td>\n",
       "      <td>0</td>\n",
       "    </tr>\n",
       "    <tr>\n",
       "      <th>1</th>\n",
       "      <td>1</td>\n",
       "      <td>0</td>\n",
       "      <td>4</td>\n",
       "      <td>787</td>\n",
       "      <td>800</td>\n",
       "      <td>Buffet</td>\n",
       "      <td>Banashankari</td>\n",
       "      <td>0</td>\n",
       "      <td>0</td>\n",
       "      <td>0</td>\n",
       "      <td>...</td>\n",
       "      <td>0</td>\n",
       "      <td>0</td>\n",
       "      <td>0</td>\n",
       "      <td>0</td>\n",
       "      <td>0</td>\n",
       "      <td>0</td>\n",
       "      <td>0</td>\n",
       "      <td>0</td>\n",
       "      <td>0</td>\n",
       "      <td>0</td>\n",
       "    </tr>\n",
       "    <tr>\n",
       "      <th>2</th>\n",
       "      <td>1</td>\n",
       "      <td>0</td>\n",
       "      <td>3</td>\n",
       "      <td>918</td>\n",
       "      <td>800</td>\n",
       "      <td>Buffet</td>\n",
       "      <td>Banashankari</td>\n",
       "      <td>0</td>\n",
       "      <td>0</td>\n",
       "      <td>0</td>\n",
       "      <td>...</td>\n",
       "      <td>0</td>\n",
       "      <td>0</td>\n",
       "      <td>0</td>\n",
       "      <td>0</td>\n",
       "      <td>0</td>\n",
       "      <td>0</td>\n",
       "      <td>0</td>\n",
       "      <td>0</td>\n",
       "      <td>0</td>\n",
       "      <td>0</td>\n",
       "    </tr>\n",
       "    <tr>\n",
       "      <th>3</th>\n",
       "      <td>0</td>\n",
       "      <td>0</td>\n",
       "      <td>3</td>\n",
       "      <td>88</td>\n",
       "      <td>300</td>\n",
       "      <td>Buffet</td>\n",
       "      <td>Banashankari</td>\n",
       "      <td>0</td>\n",
       "      <td>0</td>\n",
       "      <td>0</td>\n",
       "      <td>...</td>\n",
       "      <td>0</td>\n",
       "      <td>0</td>\n",
       "      <td>0</td>\n",
       "      <td>0</td>\n",
       "      <td>0</td>\n",
       "      <td>0</td>\n",
       "      <td>0</td>\n",
       "      <td>0</td>\n",
       "      <td>0</td>\n",
       "      <td>0</td>\n",
       "    </tr>\n",
       "    <tr>\n",
       "      <th>4</th>\n",
       "      <td>0</td>\n",
       "      <td>0</td>\n",
       "      <td>3</td>\n",
       "      <td>166</td>\n",
       "      <td>600</td>\n",
       "      <td>Buffet</td>\n",
       "      <td>Banashankari</td>\n",
       "      <td>0</td>\n",
       "      <td>0</td>\n",
       "      <td>0</td>\n",
       "      <td>...</td>\n",
       "      <td>0</td>\n",
       "      <td>0</td>\n",
       "      <td>0</td>\n",
       "      <td>0</td>\n",
       "      <td>0</td>\n",
       "      <td>0</td>\n",
       "      <td>0</td>\n",
       "      <td>0</td>\n",
       "      <td>0</td>\n",
       "      <td>0</td>\n",
       "    </tr>\n",
       "  </tbody>\n",
       "</table>\n",
       "<p>5 rows × 139 columns</p>\n",
       "</div>"
      ],
      "text/plain": [
       "   netorder  booktable rating  votes cost listedin          city  Sweet_Shop  \\\n",
       "0         1          1      4    775  800   Buffet  Banashankari           0   \n",
       "1         1          0      4    787  800   Buffet  Banashankari           0   \n",
       "2         1          0      3    918  800   Buffet  Banashankari           0   \n",
       "3         0          0      3     88  300   Buffet  Banashankari           0   \n",
       "4         0          0      3    166  600   Buffet  Banashankari           0   \n",
       "\n",
       "   Lounge  Mess  ...  South_American  Street_Food  Grill  Coffee  Steak  \\\n",
       "0       0     0  ...               0            0      0       0      0   \n",
       "1       0     0  ...               0            0      0       0      0   \n",
       "2       0     0  ...               0            0      0       0      0   \n",
       "3       0     0  ...               0            0      0       0      0   \n",
       "4       0     0  ...               0            0      0       0      0   \n",
       "\n",
       "   Hot_dogs  British  Raw_Meats  Iranian  Vietnamese  \n",
       "0         0        0          0        0           0  \n",
       "1         0        0          0        0           0  \n",
       "2         0        0          0        0           0  \n",
       "3         0        0          0        0           0  \n",
       "4         0        0          0        0           0  \n",
       "\n",
       "[5 rows x 139 columns]"
      ]
     },
     "execution_count": 40,
     "metadata": {},
     "output_type": "execute_result"
    }
   ],
   "source": [
    "df.head()"
   ]
  },
  {
   "cell_type": "code",
   "execution_count": 41,
   "metadata": {},
   "outputs": [],
   "source": [
    "toonedata = df['listedin'].unique().tolist()"
   ]
  },
  {
   "cell_type": "code",
   "execution_count": 42,
   "metadata": {},
   "outputs": [
    {
     "name": "stderr",
     "output_type": "stream",
     "text": [
      "<ipython-input-36-4e77a68b6dbf>:17: TqdmDeprecationWarning: This function will be removed in tqdm==5.0.0\n",
      "Please use `tqdm.notebook.tqdm` instead of `tqdm.tqdm_notebook`\n",
      "  for i in tqdm(restype_datalist):\n"
     ]
    },
    {
     "data": {
      "application/vnd.jupyter.widget-view+json": {
       "model_id": "1b0783a14daf4f079485099ba7cabf6e",
       "version_major": 2,
       "version_minor": 0
      },
      "text/plain": [
       "  0%|          | 0/51148 [00:00<?, ?it/s]"
      ]
     },
     "metadata": {},
     "output_type": "display_data"
    },
    {
     "data": {
      "application/vnd.jupyter.widget-view+json": {
       "model_id": "8101c7e7bf0646dcb13608f1082765c8",
       "version_major": 2,
       "version_minor": 0
      },
      "text/plain": [
       "  0%|          | 0/51148 [00:00<?, ?it/s]"
      ]
     },
     "metadata": {},
     "output_type": "display_data"
    }
   ],
   "source": [
    "df_listedin, list_listedin = createSimpleColumns('listedin')\n",
    "df_city, list_city     = createSimpleColumns('city')\n",
    "df          = pd.merge(df, df_listedin, left_index=True, right_index=True)\n",
    "df          = pd.merge(df, df_city    , left_index=True, right_index=True)\n",
    "df          = df.drop('city', axis=1)\n",
    "df          = df.drop('listedin', axis=1)"
   ]
  },
  {
   "cell_type": "markdown",
   "metadata": {},
   "source": [
    "### Rearranging the columns"
   ]
  },
  {
   "cell_type": "code",
   "execution_count": 43,
   "metadata": {},
   "outputs": [],
   "source": [
    "final_columns =  df.columns.tolist()[3:] +df.columns.tolist()[:3]\n",
    "df = df[final_columns]"
   ]
  },
  {
   "cell_type": "code",
   "execution_count": 44,
   "metadata": {},
   "outputs": [
    {
     "data": {
      "text/html": [
       "<div>\n",
       "<style scoped>\n",
       "    .dataframe tbody tr th:only-of-type {\n",
       "        vertical-align: middle;\n",
       "    }\n",
       "\n",
       "    .dataframe tbody tr th {\n",
       "        vertical-align: top;\n",
       "    }\n",
       "\n",
       "    .dataframe thead th {\n",
       "        text-align: right;\n",
       "    }\n",
       "</style>\n",
       "<table border=\"1\" class=\"dataframe\">\n",
       "  <thead>\n",
       "    <tr style=\"text-align: right;\">\n",
       "      <th></th>\n",
       "      <th>votes</th>\n",
       "      <th>cost</th>\n",
       "      <th>Sweet_Shop</th>\n",
       "      <th>Lounge</th>\n",
       "      <th>Mess</th>\n",
       "      <th>Dhaba</th>\n",
       "      <th>Quick_Bites</th>\n",
       "      <th>Meat_Shop</th>\n",
       "      <th>Confectionery</th>\n",
       "      <th>Delivery_x</th>\n",
       "      <th>...</th>\n",
       "      <th>Koramangala_6th_Block</th>\n",
       "      <th>New_BEL_Road</th>\n",
       "      <th>Kammanahalli</th>\n",
       "      <th>Banashankari</th>\n",
       "      <th>Whitefield</th>\n",
       "      <th>HSR</th>\n",
       "      <th>Church_Street</th>\n",
       "      <th>netorder</th>\n",
       "      <th>booktable</th>\n",
       "      <th>rating</th>\n",
       "    </tr>\n",
       "  </thead>\n",
       "  <tbody>\n",
       "    <tr>\n",
       "      <th>0</th>\n",
       "      <td>775</td>\n",
       "      <td>800</td>\n",
       "      <td>0</td>\n",
       "      <td>0</td>\n",
       "      <td>0</td>\n",
       "      <td>0</td>\n",
       "      <td>0</td>\n",
       "      <td>0</td>\n",
       "      <td>0</td>\n",
       "      <td>0</td>\n",
       "      <td>...</td>\n",
       "      <td>0</td>\n",
       "      <td>0</td>\n",
       "      <td>0</td>\n",
       "      <td>1</td>\n",
       "      <td>0</td>\n",
       "      <td>0</td>\n",
       "      <td>0</td>\n",
       "      <td>1</td>\n",
       "      <td>1</td>\n",
       "      <td>4</td>\n",
       "    </tr>\n",
       "    <tr>\n",
       "      <th>1</th>\n",
       "      <td>787</td>\n",
       "      <td>800</td>\n",
       "      <td>0</td>\n",
       "      <td>0</td>\n",
       "      <td>0</td>\n",
       "      <td>0</td>\n",
       "      <td>0</td>\n",
       "      <td>0</td>\n",
       "      <td>0</td>\n",
       "      <td>0</td>\n",
       "      <td>...</td>\n",
       "      <td>0</td>\n",
       "      <td>0</td>\n",
       "      <td>0</td>\n",
       "      <td>1</td>\n",
       "      <td>0</td>\n",
       "      <td>0</td>\n",
       "      <td>0</td>\n",
       "      <td>1</td>\n",
       "      <td>0</td>\n",
       "      <td>4</td>\n",
       "    </tr>\n",
       "    <tr>\n",
       "      <th>2</th>\n",
       "      <td>918</td>\n",
       "      <td>800</td>\n",
       "      <td>0</td>\n",
       "      <td>0</td>\n",
       "      <td>0</td>\n",
       "      <td>0</td>\n",
       "      <td>0</td>\n",
       "      <td>0</td>\n",
       "      <td>0</td>\n",
       "      <td>0</td>\n",
       "      <td>...</td>\n",
       "      <td>0</td>\n",
       "      <td>0</td>\n",
       "      <td>0</td>\n",
       "      <td>1</td>\n",
       "      <td>0</td>\n",
       "      <td>0</td>\n",
       "      <td>0</td>\n",
       "      <td>1</td>\n",
       "      <td>0</td>\n",
       "      <td>3</td>\n",
       "    </tr>\n",
       "    <tr>\n",
       "      <th>3</th>\n",
       "      <td>88</td>\n",
       "      <td>300</td>\n",
       "      <td>0</td>\n",
       "      <td>0</td>\n",
       "      <td>0</td>\n",
       "      <td>0</td>\n",
       "      <td>0</td>\n",
       "      <td>0</td>\n",
       "      <td>0</td>\n",
       "      <td>0</td>\n",
       "      <td>...</td>\n",
       "      <td>0</td>\n",
       "      <td>0</td>\n",
       "      <td>0</td>\n",
       "      <td>1</td>\n",
       "      <td>0</td>\n",
       "      <td>0</td>\n",
       "      <td>0</td>\n",
       "      <td>0</td>\n",
       "      <td>0</td>\n",
       "      <td>3</td>\n",
       "    </tr>\n",
       "    <tr>\n",
       "      <th>4</th>\n",
       "      <td>166</td>\n",
       "      <td>600</td>\n",
       "      <td>0</td>\n",
       "      <td>0</td>\n",
       "      <td>0</td>\n",
       "      <td>0</td>\n",
       "      <td>0</td>\n",
       "      <td>0</td>\n",
       "      <td>0</td>\n",
       "      <td>0</td>\n",
       "      <td>...</td>\n",
       "      <td>0</td>\n",
       "      <td>0</td>\n",
       "      <td>0</td>\n",
       "      <td>1</td>\n",
       "      <td>0</td>\n",
       "      <td>0</td>\n",
       "      <td>0</td>\n",
       "      <td>0</td>\n",
       "      <td>0</td>\n",
       "      <td>3</td>\n",
       "    </tr>\n",
       "  </tbody>\n",
       "</table>\n",
       "<p>5 rows × 174 columns</p>\n",
       "</div>"
      ],
      "text/plain": [
       "   votes cost  Sweet_Shop  Lounge  Mess  Dhaba  Quick_Bites  Meat_Shop  \\\n",
       "0    775  800           0       0     0      0            0          0   \n",
       "1    787  800           0       0     0      0            0          0   \n",
       "2    918  800           0       0     0      0            0          0   \n",
       "3     88  300           0       0     0      0            0          0   \n",
       "4    166  600           0       0     0      0            0          0   \n",
       "\n",
       "   Confectionery  Delivery_x  ...  Koramangala_6th_Block  New_BEL_Road  \\\n",
       "0              0           0  ...                      0             0   \n",
       "1              0           0  ...                      0             0   \n",
       "2              0           0  ...                      0             0   \n",
       "3              0           0  ...                      0             0   \n",
       "4              0           0  ...                      0             0   \n",
       "\n",
       "   Kammanahalli  Banashankari  Whitefield  HSR  Church_Street  netorder  \\\n",
       "0             0             1           0    0              0         1   \n",
       "1             0             1           0    0              0         1   \n",
       "2             0             1           0    0              0         1   \n",
       "3             0             1           0    0              0         0   \n",
       "4             0             1           0    0              0         0   \n",
       "\n",
       "   booktable  rating  \n",
       "0          1       4  \n",
       "1          0       4  \n",
       "2          0       3  \n",
       "3          0       3  \n",
       "4          0       3  \n",
       "\n",
       "[5 rows x 174 columns]"
      ]
     },
     "execution_count": 44,
     "metadata": {},
     "output_type": "execute_result"
    }
   ],
   "source": [
    "df.head()"
   ]
  },
  {
   "cell_type": "code",
   "execution_count": 45,
   "metadata": {},
   "outputs": [
    {
     "data": {
      "image/png": "[encoded data removed]",
      "text/plain": [
       "<Figure size 432x288 with 1 Axes>"
      ]
     },
     "metadata": {
      "needs_background": "light"
     },
     "output_type": "display_data"
    }
   ],
   "source": [
    "#plt.figure(figsize=(10,10))\n",
    "outlets = df['rating'].value_counts()\n",
    "sns.barplot(x = outlets.index, y = outlets)\n",
    "plt.title(\"Restaurdents getting ratings\")\n",
    "plt.ylabel('Frequency of Restaurants getting ratings')\n",
    "plt.xlabel('Ratings')\n",
    "plt.savefig(\"rating-classes-frequency.png\")\n",
    "plt.show()"
   ]
  },
  {
   "cell_type": "code",
   "execution_count": 46,
   "metadata": {},
   "outputs": [
    {
     "data": {
      "image/png": "[encoded data removed]",
      "text/plain": [
       "<Figure size 432x288 with 1 Axes>"
      ]
     },
     "metadata": {},
     "output_type": "display_data"
    }
   ],
   "source": [
    "\n",
    "# only \"explode\" the 2nd slice (i.e. 'Hogs')\n",
    "explode = (0.1, 0.1, 0.1, 0.1)\n",
    "#add colors\n",
    "fig1, ax1 = plt.subplots()\n",
    "ax1.pie(outlets, explode=explode, labels=outlets.index, autopct='%1.1f%%',\n",
    "        shadow=True, startangle=90)\n",
    "# Equal aspect ratio ensures that pie is drawn as a circle\n",
    "ax1.axis('equal')\n",
    "plt.tight_layout()\n",
    "plt.savefig(\"pie-rating-classes-percentage.png\")\n",
    "plt.show()"
   ]
  },
  {
   "cell_type": "code",
   "execution_count": 47,
   "metadata": {},
   "outputs": [
    {
     "data": {
      "image/png": "[encoded data removed]",
      "text/plain": [
       "<Figure size 1440x720 with 1 Axes>"
      ]
     },
     "metadata": {
      "needs_background": "light"
     },
     "output_type": "display_data"
    }
   ],
   "source": [
    "def topcuisine():\n",
    "    k =[i for i in list_cuisines if i in df.columns]\n",
    "    list_cuisines_top = {}\n",
    "    for i in k:\n",
    "        if df[i].value_counts()[0] != df.shape[0]:\n",
    "            list_cuisines_top[i]=df[i].value_counts().tolist()[1]\n",
    "    list_cuisines_top_sorted = sorted(list_cuisines_top.items(), key=lambda x:x[-1],reverse=True)\n",
    "    plt.figure(figsize=(20,10))\n",
    "    sns.barplot(x = [i[0] for i in list_cuisines_top_sorted[:20]], y = [i[1] for i in list_cuisines_top_sorted[:20]])\n",
    "    plt.title(\"Top 20 Cuisines\")\n",
    "    plt.ylabel('Frequency of Restaurants having these cuisines')\n",
    "    plt.xlabel('Cuisine')\n",
    "    plt.savefig(\"top20-cuisines.png\")\n",
    "    "
   ]
  },
  {
   "cell_type": "code",
   "execution_count": 48,
   "metadata": {},
   "outputs": [
    {
     "data": {
      "image/png": "[encoded data removed]",
      "text/plain": [
       "<Figure size 1440x720 with 1 Axes>"
      ]
     },
     "metadata": {
      "needs_background": "light"
     },
     "output_type": "display_data"
    }
   ],
   "source": [
    "def topresttype():\n",
    "    k =[i for i in list_resttype if i in df.columns]\n",
    "    list_resttype_top = {}\n",
    "    for i in k:\n",
    "        if df[i].value_counts()[0] != df.shape[0]:\n",
    "            list_resttype_top[i]=df[i].value_counts().tolist()[1]\n",
    "    \n",
    "    list_resttype_top_sorted = sorted(list_resttype_top.items(), key=lambda x:x[-1],reverse=True)\n",
    "    list_top_rest = [i[0] for i in list_resttype_top_sorted[:20]]\n",
    "    plt.figure(figsize=(20,10))\n",
    "    sns.barplot(x = [i[0] for i in list_resttype_top_sorted[:20]], y = [i[1] for i in list_resttype_top_sorted[:20]])\n",
    "    plt.title(\"Top 20 Restaurants Types\")\n",
    "    plt.ylabel('Frequency of types Restaurants')\n",
    "    plt.xlabel('Types of Restaurants')\n",
    "    plt.savefig(\"top20-restaurdants-type.png\")\n",
    "    plt.show()\n",
    "    return list_top_rest\n",
    "\n",
    "list_top_rest = topresttype() "
   ]
  },
  {
   "cell_type": "code",
   "execution_count": 49,
   "metadata": {
    "scrolled": true
   },
   "outputs": [],
   "source": []
  },
  {
   "cell_type": "code",
   "execution_count": 50,
   "metadata": {},
   "outputs": [
    {
     "data": {
      "text/plain": [
       "3    36887\n",
       "4     9894\n",
       "2     3727\n",
       "1      640\n",
       "Name: rating, dtype: int64"
      ]
     },
     "execution_count": 50,
     "metadata": {},
     "output_type": "execute_result"
    }
   ],
   "source": [
    "df['rating'].value_counts()"
   ]
  },
  {
   "cell_type": "markdown",
   "metadata": {},
   "source": [
    "### Encoding the data"
   ]
  },
  {
   "cell_type": "code",
   "execution_count": 51,
   "metadata": {},
   "outputs": [],
   "source": [
    "labelencoder   = LabelEncoder()"
   ]
  },
  {
   "cell_type": "code",
   "execution_count": 52,
   "metadata": {},
   "outputs": [],
   "source": [
    "df = df.apply(labelencoder.fit_transform)"
   ]
  },
  {
   "cell_type": "code",
   "execution_count": 53,
   "metadata": {},
   "outputs": [],
   "source": [
    "df2 = df[:]"
   ]
  },
  {
   "cell_type": "code",
   "execution_count": 54,
   "metadata": {
    "scrolled": true
   },
   "outputs": [
    {
     "data": {
      "text/html": [
       "<div>\n",
       "<style scoped>\n",
       "    .dataframe tbody tr th:only-of-type {\n",
       "        vertical-align: middle;\n",
       "    }\n",
       "\n",
       "    .dataframe tbody tr th {\n",
       "        vertical-align: top;\n",
       "    }\n",
       "\n",
       "    .dataframe thead th {\n",
       "        text-align: right;\n",
       "    }\n",
       "</style>\n",
       "<table border=\"1\" class=\"dataframe\">\n",
       "  <thead>\n",
       "    <tr style=\"text-align: right;\">\n",
       "      <th></th>\n",
       "      <th>votes</th>\n",
       "      <th>cost</th>\n",
       "      <th>Sweet_Shop</th>\n",
       "      <th>Lounge</th>\n",
       "      <th>Mess</th>\n",
       "      <th>Dhaba</th>\n",
       "      <th>Quick_Bites</th>\n",
       "      <th>Meat_Shop</th>\n",
       "      <th>Confectionery</th>\n",
       "      <th>Delivery_x</th>\n",
       "      <th>...</th>\n",
       "      <th>Koramangala_6th_Block</th>\n",
       "      <th>New_BEL_Road</th>\n",
       "      <th>Kammanahalli</th>\n",
       "      <th>Banashankari</th>\n",
       "      <th>Whitefield</th>\n",
       "      <th>HSR</th>\n",
       "      <th>Church_Street</th>\n",
       "      <th>netorder</th>\n",
       "      <th>booktable</th>\n",
       "      <th>rating</th>\n",
       "    </tr>\n",
       "  </thead>\n",
       "  <tbody>\n",
       "    <tr>\n",
       "      <th>votes</th>\n",
       "      <td>1.000000</td>\n",
       "      <td>0.200787</td>\n",
       "      <td>NaN</td>\n",
       "      <td>0.131098</td>\n",
       "      <td>0.028649</td>\n",
       "      <td>0.013257</td>\n",
       "      <td>NaN</td>\n",
       "      <td>NaN</td>\n",
       "      <td>0.015445</td>\n",
       "      <td>0.113287</td>\n",
       "      <td>...</td>\n",
       "      <td>NaN</td>\n",
       "      <td>NaN</td>\n",
       "      <td>0.036480</td>\n",
       "      <td>0.018493</td>\n",
       "      <td>0.019717</td>\n",
       "      <td>0.016346</td>\n",
       "      <td>NaN</td>\n",
       "      <td>0.086313</td>\n",
       "      <td>0.526761</td>\n",
       "      <td>0.480929</td>\n",
       "    </tr>\n",
       "    <tr>\n",
       "      <th>cost</th>\n",
       "      <td>0.200787</td>\n",
       "      <td>1.000000</td>\n",
       "      <td>NaN</td>\n",
       "      <td>0.155928</td>\n",
       "      <td>0.019910</td>\n",
       "      <td>0.000080</td>\n",
       "      <td>NaN</td>\n",
       "      <td>NaN</td>\n",
       "      <td>0.027465</td>\n",
       "      <td>0.102884</td>\n",
       "      <td>...</td>\n",
       "      <td>NaN</td>\n",
       "      <td>NaN</td>\n",
       "      <td>0.027109</td>\n",
       "      <td>0.004612</td>\n",
       "      <td>0.009182</td>\n",
       "      <td>0.031457</td>\n",
       "      <td>NaN</td>\n",
       "      <td>0.178009</td>\n",
       "      <td>0.345047</td>\n",
       "      <td>0.158722</td>\n",
       "    </tr>\n",
       "    <tr>\n",
       "      <th>Sweet_Shop</th>\n",
       "      <td>NaN</td>\n",
       "      <td>NaN</td>\n",
       "      <td>NaN</td>\n",
       "      <td>NaN</td>\n",
       "      <td>NaN</td>\n",
       "      <td>NaN</td>\n",
       "      <td>NaN</td>\n",
       "      <td>NaN</td>\n",
       "      <td>NaN</td>\n",
       "      <td>NaN</td>\n",
       "      <td>...</td>\n",
       "      <td>NaN</td>\n",
       "      <td>NaN</td>\n",
       "      <td>NaN</td>\n",
       "      <td>NaN</td>\n",
       "      <td>NaN</td>\n",
       "      <td>NaN</td>\n",
       "      <td>NaN</td>\n",
       "      <td>NaN</td>\n",
       "      <td>NaN</td>\n",
       "      <td>NaN</td>\n",
       "    </tr>\n",
       "    <tr>\n",
       "      <th>Lounge</th>\n",
       "      <td>0.131098</td>\n",
       "      <td>0.155928</td>\n",
       "      <td>NaN</td>\n",
       "      <td>1.000000</td>\n",
       "      <td>0.007644</td>\n",
       "      <td>0.002930</td>\n",
       "      <td>NaN</td>\n",
       "      <td>NaN</td>\n",
       "      <td>0.003176</td>\n",
       "      <td>0.032894</td>\n",
       "      <td>...</td>\n",
       "      <td>NaN</td>\n",
       "      <td>NaN</td>\n",
       "      <td>0.013381</td>\n",
       "      <td>0.010761</td>\n",
       "      <td>0.007309</td>\n",
       "      <td>0.004962</td>\n",
       "      <td>NaN</td>\n",
       "      <td>0.095981</td>\n",
       "      <td>0.142710</td>\n",
       "      <td>0.042549</td>\n",
       "    </tr>\n",
       "    <tr>\n",
       "      <th>Mess</th>\n",
       "      <td>0.028649</td>\n",
       "      <td>0.019910</td>\n",
       "      <td>NaN</td>\n",
       "      <td>0.007644</td>\n",
       "      <td>1.000000</td>\n",
       "      <td>0.002042</td>\n",
       "      <td>NaN</td>\n",
       "      <td>NaN</td>\n",
       "      <td>0.002213</td>\n",
       "      <td>0.022921</td>\n",
       "      <td>...</td>\n",
       "      <td>NaN</td>\n",
       "      <td>NaN</td>\n",
       "      <td>0.003531</td>\n",
       "      <td>0.001166</td>\n",
       "      <td>0.005529</td>\n",
       "      <td>0.003213</td>\n",
       "      <td>NaN</td>\n",
       "      <td>0.048561</td>\n",
       "      <td>0.027722</td>\n",
       "      <td>0.008798</td>\n",
       "    </tr>\n",
       "    <tr>\n",
       "      <th>...</th>\n",
       "      <td>...</td>\n",
       "      <td>...</td>\n",
       "      <td>...</td>\n",
       "      <td>...</td>\n",
       "      <td>...</td>\n",
       "      <td>...</td>\n",
       "      <td>...</td>\n",
       "      <td>...</td>\n",
       "      <td>...</td>\n",
       "      <td>...</td>\n",
       "      <td>...</td>\n",
       "      <td>...</td>\n",
       "      <td>...</td>\n",
       "      <td>...</td>\n",
       "      <td>...</td>\n",
       "      <td>...</td>\n",
       "      <td>...</td>\n",
       "      <td>...</td>\n",
       "      <td>...</td>\n",
       "      <td>...</td>\n",
       "      <td>...</td>\n",
       "    </tr>\n",
       "    <tr>\n",
       "      <th>HSR</th>\n",
       "      <td>0.016346</td>\n",
       "      <td>0.031457</td>\n",
       "      <td>NaN</td>\n",
       "      <td>0.004962</td>\n",
       "      <td>0.003213</td>\n",
       "      <td>0.001360</td>\n",
       "      <td>NaN</td>\n",
       "      <td>NaN</td>\n",
       "      <td>0.001472</td>\n",
       "      <td>0.038181</td>\n",
       "      <td>...</td>\n",
       "      <td>NaN</td>\n",
       "      <td>NaN</td>\n",
       "      <td>0.030293</td>\n",
       "      <td>0.024453</td>\n",
       "      <td>0.033515</td>\n",
       "      <td>1.000000</td>\n",
       "      <td>NaN</td>\n",
       "      <td>0.035009</td>\n",
       "      <td>0.012673</td>\n",
       "      <td>0.017396</td>\n",
       "    </tr>\n",
       "    <tr>\n",
       "      <th>Church_Street</th>\n",
       "      <td>NaN</td>\n",
       "      <td>NaN</td>\n",
       "      <td>NaN</td>\n",
       "      <td>NaN</td>\n",
       "      <td>NaN</td>\n",
       "      <td>NaN</td>\n",
       "      <td>NaN</td>\n",
       "      <td>NaN</td>\n",
       "      <td>NaN</td>\n",
       "      <td>NaN</td>\n",
       "      <td>...</td>\n",
       "      <td>NaN</td>\n",
       "      <td>NaN</td>\n",
       "      <td>NaN</td>\n",
       "      <td>NaN</td>\n",
       "      <td>NaN</td>\n",
       "      <td>NaN</td>\n",
       "      <td>NaN</td>\n",
       "      <td>NaN</td>\n",
       "      <td>NaN</td>\n",
       "      <td>NaN</td>\n",
       "    </tr>\n",
       "    <tr>\n",
       "      <th>netorder</th>\n",
       "      <td>0.086313</td>\n",
       "      <td>0.178009</td>\n",
       "      <td>NaN</td>\n",
       "      <td>0.095981</td>\n",
       "      <td>0.048561</td>\n",
       "      <td>0.014655</td>\n",
       "      <td>NaN</td>\n",
       "      <td>NaN</td>\n",
       "      <td>0.001507</td>\n",
       "      <td>0.043111</td>\n",
       "      <td>...</td>\n",
       "      <td>NaN</td>\n",
       "      <td>NaN</td>\n",
       "      <td>0.001043</td>\n",
       "      <td>0.010322</td>\n",
       "      <td>0.021411</td>\n",
       "      <td>0.035009</td>\n",
       "      <td>NaN</td>\n",
       "      <td>1.000000</td>\n",
       "      <td>0.002010</td>\n",
       "      <td>0.040553</td>\n",
       "    </tr>\n",
       "    <tr>\n",
       "      <th>booktable</th>\n",
       "      <td>0.526761</td>\n",
       "      <td>0.345047</td>\n",
       "      <td>NaN</td>\n",
       "      <td>0.142710</td>\n",
       "      <td>0.027722</td>\n",
       "      <td>0.010626</td>\n",
       "      <td>NaN</td>\n",
       "      <td>NaN</td>\n",
       "      <td>0.011519</td>\n",
       "      <td>0.118468</td>\n",
       "      <td>...</td>\n",
       "      <td>NaN</td>\n",
       "      <td>NaN</td>\n",
       "      <td>0.021237</td>\n",
       "      <td>0.029974</td>\n",
       "      <td>0.003638</td>\n",
       "      <td>0.012673</td>\n",
       "      <td>NaN</td>\n",
       "      <td>0.002010</td>\n",
       "      <td>1.000000</td>\n",
       "      <td>0.380078</td>\n",
       "    </tr>\n",
       "    <tr>\n",
       "      <th>rating</th>\n",
       "      <td>0.480929</td>\n",
       "      <td>0.158722</td>\n",
       "      <td>NaN</td>\n",
       "      <td>0.042549</td>\n",
       "      <td>0.008798</td>\n",
       "      <td>0.007346</td>\n",
       "      <td>NaN</td>\n",
       "      <td>NaN</td>\n",
       "      <td>0.005228</td>\n",
       "      <td>0.092388</td>\n",
       "      <td>...</td>\n",
       "      <td>NaN</td>\n",
       "      <td>NaN</td>\n",
       "      <td>0.017647</td>\n",
       "      <td>0.011295</td>\n",
       "      <td>0.026428</td>\n",
       "      <td>0.017396</td>\n",
       "      <td>NaN</td>\n",
       "      <td>0.040553</td>\n",
       "      <td>0.380078</td>\n",
       "      <td>1.000000</td>\n",
       "    </tr>\n",
       "  </tbody>\n",
       "</table>\n",
       "<p>174 rows × 174 columns</p>\n",
       "</div>"
      ],
      "text/plain": [
       "                  votes      cost  Sweet_Shop    Lounge      Mess     Dhaba  \\\n",
       "votes          1.000000  0.200787         NaN  0.131098  0.028649  0.013257   \n",
       "cost           0.200787  1.000000         NaN  0.155928  0.019910  0.000080   \n",
       "Sweet_Shop          NaN       NaN         NaN       NaN       NaN       NaN   \n",
       "Lounge         0.131098  0.155928         NaN  1.000000  0.007644  0.002930   \n",
       "Mess           0.028649  0.019910         NaN  0.007644  1.000000  0.002042   \n",
       "...                 ...       ...         ...       ...       ...       ...   \n",
       "HSR            0.016346  0.031457         NaN  0.004962  0.003213  0.001360   \n",
       "Church_Street       NaN       NaN         NaN       NaN       NaN       NaN   \n",
       "netorder       0.086313  0.178009         NaN  0.095981  0.048561  0.014655   \n",
       "booktable      0.526761  0.345047         NaN  0.142710  0.027722  0.010626   \n",
       "rating         0.480929  0.158722         NaN  0.042549  0.008798  0.007346   \n",
       "\n",
       "               Quick_Bites  Meat_Shop  Confectionery  Delivery_x  ...  \\\n",
       "votes                  NaN        NaN       0.015445    0.113287  ...   \n",
       "cost                   NaN        NaN       0.027465    0.102884  ...   \n",
       "Sweet_Shop             NaN        NaN            NaN         NaN  ...   \n",
       "Lounge                 NaN        NaN       0.003176    0.032894  ...   \n",
       "Mess                   NaN        NaN       0.002213    0.022921  ...   \n",
       "...                    ...        ...            ...         ...  ...   \n",
       "HSR                    NaN        NaN       0.001472    0.038181  ...   \n",
       "Church_Street          NaN        NaN            NaN         NaN  ...   \n",
       "netorder               NaN        NaN       0.001507    0.043111  ...   \n",
       "booktable              NaN        NaN       0.011519    0.118468  ...   \n",
       "rating                 NaN        NaN       0.005228    0.092388  ...   \n",
       "\n",
       "               Koramangala_6th_Block  New_BEL_Road  Kammanahalli  \\\n",
       "votes                            NaN           NaN      0.036480   \n",
       "cost                             NaN           NaN      0.027109   \n",
       "Sweet_Shop                       NaN           NaN           NaN   \n",
       "Lounge                           NaN           NaN      0.013381   \n",
       "Mess                             NaN           NaN      0.003531   \n",
       "...                              ...           ...           ...   \n",
       "HSR                              NaN           NaN      0.030293   \n",
       "Church_Street                    NaN           NaN           NaN   \n",
       "netorder                         NaN           NaN      0.001043   \n",
       "booktable                        NaN           NaN      0.021237   \n",
       "rating                           NaN           NaN      0.017647   \n",
       "\n",
       "               Banashankari  Whitefield       HSR  Church_Street  netorder  \\\n",
       "votes              0.018493    0.019717  0.016346            NaN  0.086313   \n",
       "cost               0.004612    0.009182  0.031457            NaN  0.178009   \n",
       "Sweet_Shop              NaN         NaN       NaN            NaN       NaN   \n",
       "Lounge             0.010761    0.007309  0.004962            NaN  0.095981   \n",
       "Mess               0.001166    0.005529  0.003213            NaN  0.048561   \n",
       "...                     ...         ...       ...            ...       ...   \n",
       "HSR                0.024453    0.033515  1.000000            NaN  0.035009   \n",
       "Church_Street           NaN         NaN       NaN            NaN       NaN   \n",
       "netorder           0.010322    0.021411  0.035009            NaN  1.000000   \n",
       "booktable          0.029974    0.003638  0.012673            NaN  0.002010   \n",
       "rating             0.011295    0.026428  0.017396            NaN  0.040553   \n",
       "\n",
       "               booktable    rating  \n",
       "votes           0.526761  0.480929  \n",
       "cost            0.345047  0.158722  \n",
       "Sweet_Shop           NaN       NaN  \n",
       "Lounge          0.142710  0.042549  \n",
       "Mess            0.027722  0.008798  \n",
       "...                  ...       ...  \n",
       "HSR             0.012673  0.017396  \n",
       "Church_Street        NaN       NaN  \n",
       "netorder        0.002010  0.040553  \n",
       "booktable       1.000000  0.380078  \n",
       "rating          0.380078  1.000000  \n",
       "\n",
       "[174 rows x 174 columns]"
      ]
     },
     "execution_count": 54,
     "metadata": {},
     "output_type": "execute_result"
    }
   ],
   "source": [
    "#Using Pearson Correlation\n",
    "corr = df.corr().abs()\n",
    "corr"
   ]
  },
  {
   "cell_type": "code",
   "execution_count": 55,
   "metadata": {
    "scrolled": true
   },
   "outputs": [],
   "source": [
    "to_drop = []\n",
    "for col in df.columns:\n",
    "    if np.isnan(corr[col].values).astype(int).sum() == df.shape[1] :\n",
    "        to_drop.append(col)"
   ]
  },
  {
   "cell_type": "code",
   "execution_count": 56,
   "metadata": {},
   "outputs": [],
   "source": [
    "df = df.drop(to_drop, axis=1)"
   ]
  },
  {
   "cell_type": "code",
   "execution_count": 57,
   "metadata": {},
   "outputs": [],
   "source": [
    "def drawranking(r, n, order=1):\n",
    "    return dict(zip(n, map(lambda x: round(x,2),  MinMaxScaler().fit_transform(order*np.array([r]).T).T[0])))"
   ]
  },
  {
   "cell_type": "code",
   "execution_count": 58,
   "metadata": {},
   "outputs": [],
   "source": [
    "b_df = df[:]\n",
    "cols = list(df)\n",
    "feature_cols = cols[:len(cols)-1]\n",
    "X = df[feature_cols] # Features\n",
    "y = df.rating # Target variable"
   ]
  },
  {
   "cell_type": "code",
   "execution_count": 59,
   "metadata": {},
   "outputs": [],
   "source": [
    "X_train, X_test, y_train, y_test = train_test_split(X, y, test_size=0.2)"
   ]
  },
  {
   "cell_type": "code",
   "execution_count": 60,
   "metadata": {
    "scrolled": true
   },
   "outputs": [
    {
     "name": "stdout",
     "output_type": "stream",
     "text": [
      "123\n",
      "Fitting estimator with 123 features.\n",
      "Fitting estimator with 122 features.\n",
      "Fitting estimator with 121 features.\n",
      "Fitting estimator with 120 features.\n",
      "Fitting estimator with 119 features.\n",
      "Fitting estimator with 118 features.\n",
      "Fitting estimator with 117 features.\n",
      "Fitting estimator with 116 features.\n",
      "Fitting estimator with 115 features.\n",
      "Fitting estimator with 114 features.\n",
      "Fitting estimator with 113 features.\n",
      "Fitting estimator with 112 features.\n",
      "Fitting estimator with 111 features.\n",
      "Fitting estimator with 110 features.\n",
      "Fitting estimator with 109 features.\n",
      "Fitting estimator with 108 features.\n",
      "Fitting estimator with 107 features.\n",
      "Fitting estimator with 106 features.\n",
      "Fitting estimator with 105 features.\n",
      "Fitting estimator with 104 features.\n",
      "Fitting estimator with 103 features.\n",
      "Fitting estimator with 102 features.\n",
      "Fitting estimator with 101 features.\n",
      "Fitting estimator with 100 features.\n",
      "Fitting estimator with 99 features.\n",
      "Fitting estimator with 98 features.\n",
      "Fitting estimator with 97 features.\n",
      "Fitting estimator with 96 features.\n",
      "Fitting estimator with 95 features.\n",
      "Fitting estimator with 94 features.\n",
      "Fitting estimator with 93 features.\n",
      "Fitting estimator with 92 features.\n",
      "Fitting estimator with 91 features.\n",
      "Fitting estimator with 90 features.\n",
      "Fitting estimator with 89 features.\n",
      "Fitting estimator with 88 features.\n",
      "Fitting estimator with 87 features.\n",
      "Fitting estimator with 86 features.\n",
      "Fitting estimator with 85 features.\n",
      "Fitting estimator with 84 features.\n",
      "Fitting estimator with 83 features.\n",
      "Fitting estimator with 82 features.\n",
      "Fitting estimator with 81 features.\n",
      "Fitting estimator with 80 features.\n",
      "Fitting estimator with 79 features.\n",
      "Fitting estimator with 78 features.\n",
      "Fitting estimator with 77 features.\n",
      "Fitting estimator with 76 features.\n",
      "Fitting estimator with 75 features.\n",
      "Fitting estimator with 74 features.\n",
      "Fitting estimator with 73 features.\n",
      "Fitting estimator with 72 features.\n",
      "Fitting estimator with 71 features.\n",
      "Fitting estimator with 70 features.\n",
      "Fitting estimator with 69 features.\n",
      "Fitting estimator with 68 features.\n",
      "Fitting estimator with 67 features.\n",
      "Fitting estimator with 66 features.\n",
      "Fitting estimator with 65 features.\n",
      "Fitting estimator with 64 features.\n",
      "Fitting estimator with 63 features.\n",
      "Fitting estimator with 62 features.\n"
     ]
    },
    {
     "name": "stderr",
     "output_type": "stream",
     "text": [
      "[Parallel(n_jobs=-1)]: Using backend ThreadingBackend with 2 concurrent workers.\n"
     ]
    },
    {
     "name": "stdout",
     "output_type": "stream",
     "text": [
      "building tree 1 of 100building tree 2 of 100\n",
      "\n",
      "building tree 3 of 100\n",
      "building tree 4 of 100\n",
      "building tree 5 of 100\n",
      "building tree 6 of 100\n",
      "building tree 7 of 100\n",
      "building tree 8 of 100\n",
      "building tree 9 of 100\n",
      "building tree 10 of 100\n",
      "building tree 11 of 100\n",
      "building tree 12 of 100\n",
      "building tree 13 of 100\n",
      "building tree 14 of 100\n",
      "building tree 15 of 100\n",
      "building tree 16 of 100\n",
      "building tree 17 of 100\n",
      "building tree 18 of 100\n",
      "building tree 19 of 100\n",
      "building tree 20 of 100\n",
      "building tree 21 of 100\n",
      "building tree 22 of 100\n",
      "building tree 23 of 100\n",
      "building tree 24 of 100\n",
      "building tree 25 of 100\n",
      "building tree 26 of 100\n",
      "building tree 27 of 100\n",
      "building tree 28 of 100\n",
      "building tree 29 of 100\n"
     ]
    },
    {
     "name": "stderr",
     "output_type": "stream",
     "text": [
      "[Parallel(n_jobs=-1)]: Done  28 tasks      | elapsed:   48.5s\n"
     ]
    },
    {
     "name": "stdout",
     "output_type": "stream",
     "text": [
      "building tree 30 of 100\n",
      "building tree 31 of 100\n",
      "building tree 32 of 100\n",
      "building tree 33 of 100\n",
      "building tree 34 of 100\n",
      "building tree 35 of 100\n",
      "building tree 36 of 100\n",
      "building tree 37 of 100\n",
      "building tree 38 of 100\n",
      "building tree 39 of 100\n",
      "building tree 40 of 100\n",
      "building tree 41 of 100\n",
      "building tree 42 of 100\n",
      "building tree 43 of 100\n",
      "building tree 44 of 100\n",
      "building tree 45 of 100\n",
      "building tree 46 of 100\n",
      "building tree 47 of 100\n",
      "building tree 48 of 100\n",
      "building tree 49 of 100\n",
      "building tree 50 of 100\n",
      "building tree 51 of 100\n",
      "building tree 52 of 100\n",
      "building tree 53 of 100\n",
      "building tree 54 of 100\n",
      "building tree 55 of 100\n",
      "building tree 56 of 100\n",
      "building tree 57 of 100\n",
      "building tree 58 of 100\n",
      "building tree 59 of 100\n",
      "building tree 60 of 100\n",
      "building tree 61 of 100\n",
      "building tree 62 of 100\n",
      "building tree 63 of 100\n",
      "building tree 64 of 100\n",
      "building tree 65 of 100\n",
      "building tree 66 of 100\n",
      "building tree 67 of 100\n",
      "building tree 68 of 100\n",
      "building tree 69 of 100\n",
      "building tree 70 of 100\n",
      "building tree 71 of 100\n",
      "building tree 72 of 100\n",
      "building tree 73 of 100\n",
      "building tree 74 of 100\n",
      "building tree 75 of 100\n",
      "building tree 76 of 100\n",
      "building tree 77 of 100\n",
      "building tree 78 of 100\n",
      "building tree 79 of 100\n",
      "building tree 80 of 100\n",
      "building tree 81 of 100\n",
      "building tree 82 of 100\n",
      "building tree 83 of 100\n",
      "building tree 84 of 100\n",
      "building tree 85 of 100\n",
      "building tree 86 of 100\n",
      "building tree 87 of 100\n",
      "building tree 88 of 100\n",
      "building tree 89 of 100\n",
      "building tree 90 of 100\n",
      "building tree 91 of 100\n",
      "building tree 92 of 100\n",
      "building tree 93 of 100\n",
      "building tree 94 of 100\n",
      "building tree 95 of 100\n",
      "building tree 96 of 100\n",
      "building tree 97 of 100\n",
      "building tree 98 of 100\n",
      "building tree 99 of 100\n",
      "building tree 100 of 100\n"
     ]
    },
    {
     "name": "stderr",
     "output_type": "stream",
     "text": [
      "[Parallel(n_jobs=-1)]: Done 100 out of 100 | elapsed:  2.9min finished\n"
     ]
    }
   ],
   "source": [
    "def getModels(X,y):\n",
    "    colnames = feature_cols\n",
    "    print(len(colnames))\n",
    "    model = [0,0,0,0,0]\n",
    "    name  = ['LinearRegression', 'RFE', 'Ridge', 'Lasso', 'RandomForestRegressor']\n",
    "    model[0]  = LinearRegression(normalize=True).fit(X, y)\n",
    "    model[1]  = RFE(model[0], verbose =3).fit(X, y)\n",
    "    model[2]  = Ridge(alpha = 7).fit(X, y)\n",
    "    model[3]  = Lasso(alpha=0.05).fit(X, y)\n",
    "    model[4]  = RandomForestRegressor(n_jobs=-1, n_estimators=100, verbose=3).fit(X, y)\n",
    "    return model\n",
    "model = getModels(X,y)"
   ]
  },
  {
   "cell_type": "code",
   "execution_count": 61,
   "metadata": {},
   "outputs": [],
   "source": [
    "def drawgraph(data,gph_columns):\n",
    "    sns.catplot(x=gph_columns[1], y=gph_columns[0], data = data[:20], kind=\"bar\",height=10,  palette='coolwarm')\n",
    "    plt.title(\"Top 20\")\n",
    "    plt.savefig(\"top20-features.png\")\n",
    "    sns.catplot(x=gph_columns[1], y=gph_columns[0], data = data[-20:], kind=\"bar\",height=10,  palette='coolwarm')\n",
    "    plt.title(\"Bottom 20\")\n",
    "    plt.savefig(\"bottom20-features.png\")\n",
    "    "
   ]
  },
  {
   "cell_type": "code",
   "execution_count": 62,
   "metadata": {
    "scrolled": true
   },
   "outputs": [
    {
     "data": {
      "image/png": "[encoded data removed]",
      "text/plain": [
       "<Figure size 720x720 with 1 Axes>"
      ]
     },
     "metadata": {
      "needs_background": "light"
     },
     "output_type": "display_data"
    },
    {
     "data": {
      "image/png": "[encoded data removed]",
      "text/plain": [
       "<Figure size 720x720 with 1 Axes>"
      ]
     },
     "metadata": {
      "needs_background": "light"
     },
     "output_type": "display_data"
    }
   ],
   "source": [
    "def testattributes(X,y):\n",
    "    ranks = {}\n",
    "    name  = ['LinearRegression', 'RFE', 'Ridge', 'Lasso', 'RandomForestRegressor']\n",
    "    for i in range(len(model)):\n",
    "        if name[i] == 'RFE':\n",
    "            ranks[name[i]] =  drawranking(list(map(float, model[i].ranking_)), feature_cols, order=-1)\n",
    "        elif name[i] == 'RandomForestRegressor':\n",
    "            ranks[name[i]] =  drawranking(model[i].feature_importances_, feature_cols)\n",
    "        else:\n",
    "            ranks[name[i]] =  drawranking(list(map(float, model[i].coef_)), feature_cols)\n",
    "   \n",
    "    mean_scores = {}\n",
    "    for i in feature_cols:\n",
    "        mean_scores[i] = round(np.mean([ranks[method][i] for method in ranks.keys()]), 4)\n",
    "\n",
    "    gph_columns = ['Feature','Mean Ranking']\n",
    "    data = pd.DataFrame(list(mean_scores.items()), columns=gph_columns).sort_values(gph_columns[1], ascending=False)\n",
    "    drawgraph(data,gph_columns)\n",
    "    return data\n",
    "meanplot = testattributes(X,y)"
   ]
  },
  {
   "cell_type": "code",
   "execution_count": 65,
   "metadata": {},
   "outputs": [],
   "source": [
    "from xgboost import plot_importance\n",
    "\n",
    "def xgaimportancefilter(X,y):\n",
    "    model = XGBClassifier()\n",
    "    model.fit(X, y)\n",
    "    fig, ax = plt.subplots(figsize=(10, 10))\n",
    "    plot_importance(model, ax=ax)\n",
    "    plt.savefig(\"feature-importance-with-feature-removing.png\")\n",
    "    plt.show()"
   ]
  },
  {
   "cell_type": "code",
   "execution_count": 64,
   "metadata": {},
   "outputs": [
    {
     "name": "stdout",
     "output_type": "stream",
     "text": [
      "Collecting xgboostNote: you may need to restart the kernel to use updated packages.\n",
      "  Downloading xgboost-1.5.2-py3-none-win_amd64.whl (106.6 MB)\n",
      "Requirement already satisfied: numpy in c:\\users\\rahul\\anaconda3\\lib\\site-packages (from xgboost) (1.20.1)\n",
      "Requirement already satisfied: scipy in c:\\users\\rahul\\anaconda3\\lib\\site-packages (from xgboost) (1.6.2)\n",
      "Installing collected packages: xgboost\n",
      "Successfully installed xgboost-1.5.2\n",
      "\n"
     ]
    }
   ],
   "source": [
    "pip install xgboost"
   ]
  },
  {
   "cell_type": "code",
   "execution_count": 66,
   "metadata": {},
   "outputs": [],
   "source": [
    "from sklearn.naive_bayes import GaussianNB\n",
    "from sklearn.ensemble import RandomForestClassifier\n",
    "from sklearn.neural_network import MLPClassifier\n",
    "from xgboost.sklearn import XGBClassifier\n",
    "from sklearn.model_selection import GridSearchCV\n",
    "from sklearn.svm import SVC"
   ]
  },
  {
   "cell_type": "code",
   "execution_count": 67,
   "metadata": {},
   "outputs": [],
   "source": [
    "modelNB = GaussianNB()\n",
    "rfc = RandomForestClassifier(n_estimators=50)\n",
    "mlp = MLPClassifier(hidden_layer_sizes=(10, 10, 10), max_iter=1000)\n",
    "xgb = XGBClassifier()\n",
    "\n",
    "models = [modelNB, rfc, mlp, xgb]\n",
    "modelNames = ['GaussianNB','RandomForest', 'MLPC', 'XGBClassifier']"
   ]
  },
  {
   "cell_type": "code",
   "execution_count": 68,
   "metadata": {},
   "outputs": [],
   "source": [
    "feature_are = ['Dropping Least Attribute', 'Original Attribute', 'Balanced Class']\n",
    "modelWithDiff = [[],[],[]]\n",
    "def getModelScores(type):\n",
    "    l = []\n",
    "    X_train, X_test, y_train, y_test = train_test_split(X, y, test_size=0.2)\n",
    "    for model in models:\n",
    "        model.fit(X_train, y_train)\n",
    "        y_pred = model.predict(X_test)\n",
    "        print(modelNames[models.index(model)],\" Accuracy:\",accuracy_score(y_test, y_pred)) \n",
    "        l.append([type,modelNames[models.index(model)],accuracy_score(y_test, y_pred), precision_score(y_test, y_pred, average='weighted'), f1_score(y_test, y_pred, average='weighted')])\n",
    "    return l"
   ]
  },
  {
   "cell_type": "code",
   "execution_count": 69,
   "metadata": {},
   "outputs": [],
   "source": [
    "to_drop = meanplot[meanplot['Mean Ranking'] <= 0.35]['Feature'].tolist()\n",
    "df2 = df[:]\n",
    "df2 = df.drop(to_drop, axis=1)"
   ]
  },
  {
   "cell_type": "code",
   "execution_count": 70,
   "metadata": {},
   "outputs": [],
   "source": [
    "cols = list(df2)\n",
    "feature_cols = cols[:len(cols)-1]\n",
    "X = df2[feature_cols] # Features\n",
    "y = df2.rating # Target variable"
   ]
  },
  {
   "cell_type": "code",
   "execution_count": 71,
   "metadata": {},
   "outputs": [
    {
     "name": "stdout",
     "output_type": "stream",
     "text": [
      "GaussianNB  Accuracy: 0.1742913000977517\n",
      "RandomForest  Accuracy: 0.8759530791788857\n",
      "MLPC  Accuracy: 0.8177908113391984\n"
     ]
    },
    {
     "name": "stderr",
     "output_type": "stream",
     "text": [
      "C:\\Users\\rahul\\anaconda3\\lib\\site-packages\\xgboost\\sklearn.py:1224: UserWarning: The use of label encoder in XGBClassifier is deprecated and will be removed in a future release. To remove this warning, do the following: 1) Pass option use_label_encoder=False when constructing XGBClassifier object; and 2) Encode your labels (y) as integers starting with 0, i.e. 0, 1, 2, ..., [num_class - 1].\n",
      "  warnings.warn(label_encoder_deprecation_msg, UserWarning)\n"
     ]
    },
    {
     "name": "stdout",
     "output_type": "stream",
     "text": [
      "[10:14:22] WARNING: C:/Users/Administrator/workspace/xgboost-win64_release_1.5.1/src/learner.cc:1115: Starting in XGBoost 1.3.0, the default evaluation metric used with the objective 'multi:softprob' was changed from 'merror' to 'mlogloss'. Explicitly set eval_metric if you'd like to restore the old behavior.\n",
      "XGBClassifier  Accuracy: 0.8624633431085044\n"
     ]
    }
   ],
   "source": [
    "modelWithDiff[0] = getModelScores(feature_are[0])"
   ]
  },
  {
   "cell_type": "code",
   "execution_count": 72,
   "metadata": {},
   "outputs": [],
   "source": [
    "# xgaimportancefilter(X,y)"
   ]
  },
  {
   "cell_type": "code",
   "execution_count": 73,
   "metadata": {},
   "outputs": [],
   "source": [
    "cols = list(df)\n",
    "feature_cols = cols[:len(cols)-1]\n",
    "X = df[feature_cols] # Features\n",
    "y = df.rating # Target variable"
   ]
  },
  {
   "cell_type": "code",
   "execution_count": 74,
   "metadata": {},
   "outputs": [
    {
     "name": "stdout",
     "output_type": "stream",
     "text": [
      "GaussianNB  Accuracy: 0.1638318670576735\n",
      "RandomForest  Accuracy: 0.9090909090909091\n",
      "MLPC  Accuracy: 0.8251221896383186\n"
     ]
    },
    {
     "name": "stderr",
     "output_type": "stream",
     "text": [
      "C:\\Users\\rahul\\anaconda3\\lib\\site-packages\\xgboost\\sklearn.py:1224: UserWarning: The use of label encoder in XGBClassifier is deprecated and will be removed in a future release. To remove this warning, do the following: 1) Pass option use_label_encoder=False when constructing XGBClassifier object; and 2) Encode your labels (y) as integers starting with 0, i.e. 0, 1, 2, ..., [num_class - 1].\n",
      "  warnings.warn(label_encoder_deprecation_msg, UserWarning)\n"
     ]
    },
    {
     "name": "stdout",
     "output_type": "stream",
     "text": [
      "[10:22:49] WARNING: C:/Users/Administrator/workspace/xgboost-win64_release_1.5.1/src/learner.cc:1115: Starting in XGBoost 1.3.0, the default evaluation metric used with the objective 'multi:softprob' was changed from 'merror' to 'mlogloss'. Explicitly set eval_metric if you'd like to restore the old behavior.\n",
      "XGBClassifier  Accuracy: 0.8794721407624634\n"
     ]
    }
   ],
   "source": [
    "modelWithDiff[1] = getModelScores(feature_are[1])"
   ]
  },
  {
   "cell_type": "code",
   "execution_count": 75,
   "metadata": {},
   "outputs": [
    {
     "name": "stderr",
     "output_type": "stream",
     "text": [
      "C:\\Users\\rahul\\anaconda3\\lib\\site-packages\\xgboost\\sklearn.py:1224: UserWarning: The use of label encoder in XGBClassifier is deprecated and will be removed in a future release. To remove this warning, do the following: 1) Pass option use_label_encoder=False when constructing XGBClassifier object; and 2) Encode your labels (y) as integers starting with 0, i.e. 0, 1, 2, ..., [num_class - 1].\n",
      "  warnings.warn(label_encoder_deprecation_msg, UserWarning)\n"
     ]
    },
    {
     "name": "stdout",
     "output_type": "stream",
     "text": [
      "[10:26:28] WARNING: C:/Users/Administrator/workspace/xgboost-win64_release_1.5.1/src/learner.cc:1115: Starting in XGBoost 1.3.0, the default evaluation metric used with the objective 'multi:softprob' was changed from 'merror' to 'mlogloss'. Explicitly set eval_metric if you'd like to restore the old behavior.\n"
     ]
    },
    {
     "data": {
      "text/plain": [
       "XGBClassifier(base_score=0.5, booster='gbtree', colsample_bylevel=1,\n",
       "              colsample_bynode=1, colsample_bytree=1, enable_categorical=False,\n",
       "              gamma=0, gpu_id=-1, importance_type=None,\n",
       "              interaction_constraints='', learning_rate=0.300000012,\n",
       "              max_delta_step=0, max_depth=6, min_child_weight=1, missing=nan,\n",
       "              monotone_constraints='()', n_estimators=100, n_jobs=2,\n",
       "              num_parallel_tree=1, objective='multi:softprob', predictor='auto',\n",
       "              random_state=0, reg_alpha=0, reg_lambda=1, scale_pos_weight=None,\n",
       "              subsample=1, tree_method='exact', validate_parameters=1,\n",
       "              verbosity=None)"
      ]
     },
     "execution_count": 75,
     "metadata": {},
     "output_type": "execute_result"
    }
   ],
   "source": [
    "model = XGBClassifier()\n",
    "model.fit(X, y)"
   ]
  },
  {
   "cell_type": "code",
   "execution_count": 76,
   "metadata": {},
   "outputs": [
    {
     "data": {
      "image/png": "[encoded data removed]",
      "text/plain": [
       "<Figure size 720x720 with 1 Axes>"
      ]
     },
     "metadata": {
      "needs_background": "light"
     },
     "output_type": "display_data"
    }
   ],
   "source": [
    "fig, ax = plt.subplots(figsize=(10, 10))\n",
    "plot_importance(model, ax=ax)\n",
    "plt.savefig(\"feature-importance.png\")\n",
    "plt.show()"
   ]
  },
  {
   "cell_type": "code",
   "execution_count": 77,
   "metadata": {},
   "outputs": [],
   "source": [
    "df_temp = df[:]\n",
    "d_rate2 = resample(df[df['rating'] == 2], replace=False, n_samples=1200, random_state=123)\n",
    "d_rate3 = resample(df[df['rating'] == 3], replace=False, n_samples=1200, random_state=123)\n",
    "d_rate1 = resample(df[df['rating'] == 1], replace=False, n_samples=1200, random_state=123)\n",
    "d_rate0 = resample(df[df['rating'] == 0], replace=False, n_samples=640, random_state=123)\n",
    "df_sampled = pd.concat([d_rate0,d_rate1,d_rate2,d_rate3])"
   ]
  },
  {
   "cell_type": "code",
   "execution_count": 78,
   "metadata": {},
   "outputs": [],
   "source": [
    "cols = list(df_sampled)\n",
    "feature_cols = cols[:len(cols)-1]\n",
    "X = df_sampled[feature_cols] # Features\n",
    "y = df_sampled.rating # Target variable"
   ]
  },
  {
   "cell_type": "code",
   "execution_count": 79,
   "metadata": {},
   "outputs": [
    {
     "name": "stdout",
     "output_type": "stream",
     "text": [
      "GaussianNB  Accuracy: 0.3632075471698113\n",
      "RandomForest  Accuracy: 0.6875\n",
      "MLPC  Accuracy: 0.6379716981132075\n"
     ]
    },
    {
     "name": "stderr",
     "output_type": "stream",
     "text": [
      "C:\\Users\\rahul\\anaconda3\\lib\\site-packages\\xgboost\\sklearn.py:1224: UserWarning: The use of label encoder in XGBClassifier is deprecated and will be removed in a future release. To remove this warning, do the following: 1) Pass option use_label_encoder=False when constructing XGBClassifier object; and 2) Encode your labels (y) as integers starting with 0, i.e. 0, 1, 2, ..., [num_class - 1].\n",
      "  warnings.warn(label_encoder_deprecation_msg, UserWarning)\n"
     ]
    },
    {
     "name": "stdout",
     "output_type": "stream",
     "text": [
      "[10:31:52] WARNING: C:/Users/Administrator/workspace/xgboost-win64_release_1.5.1/src/learner.cc:1115: Starting in XGBoost 1.3.0, the default evaluation metric used with the objective 'multi:softprob' was changed from 'merror' to 'mlogloss'. Explicitly set eval_metric if you'd like to restore the old behavior.\n",
      "XGBClassifier  Accuracy: 0.6816037735849056\n"
     ]
    }
   ],
   "source": [
    "modelWithDiff[2] = getModelScores(feature_are[2])"
   ]
  },
  {
   "cell_type": "code",
   "execution_count": 80,
   "metadata": {},
   "outputs": [
    {
     "name": "stderr",
     "output_type": "stream",
     "text": [
      "C:\\Users\\rahul\\anaconda3\\lib\\site-packages\\xgboost\\sklearn.py:1224: UserWarning: The use of label encoder in XGBClassifier is deprecated and will be removed in a future release. To remove this warning, do the following: 1) Pass option use_label_encoder=False when constructing XGBClassifier object; and 2) Encode your labels (y) as integers starting with 0, i.e. 0, 1, 2, ..., [num_class - 1].\n",
      "  warnings.warn(label_encoder_deprecation_msg, UserWarning)\n"
     ]
    },
    {
     "name": "stdout",
     "output_type": "stream",
     "text": [
      "[10:32:20] WARNING: C:/Users/Administrator/workspace/xgboost-win64_release_1.5.1/src/learner.cc:1115: Starting in XGBoost 1.3.0, the default evaluation metric used with the objective 'multi:softprob' was changed from 'merror' to 'mlogloss'. Explicitly set eval_metric if you'd like to restore the old behavior.\n"
     ]
    },
    {
     "data": {
      "image/png": "[encoded data removed]",
      "text/plain": [
       "<Figure size 720x720 with 1 Axes>"
      ]
     },
     "metadata": {
      "needs_background": "light"
     },
     "output_type": "display_data"
    }
   ],
   "source": [
    "xgaimportancefilter(X,y)"
   ]
  },
  {
   "cell_type": "code",
   "execution_count": 81,
   "metadata": {},
   "outputs": [],
   "source": [
    "data_m_plot = []\n",
    "for i in modelWithDiff:\n",
    "    for j in i:\n",
    "        data_m_plot.append(j)"
   ]
  },
  {
   "cell_type": "code",
   "execution_count": 82,
   "metadata": {},
   "outputs": [
    {
     "data": {
      "text/html": [
       "<div>\n",
       "<style scoped>\n",
       "    .dataframe tbody tr th:only-of-type {\n",
       "        vertical-align: middle;\n",
       "    }\n",
       "\n",
       "    .dataframe tbody tr th {\n",
       "        vertical-align: top;\n",
       "    }\n",
       "\n",
       "    .dataframe thead th {\n",
       "        text-align: right;\n",
       "    }\n",
       "</style>\n",
       "<table border=\"1\" class=\"dataframe\">\n",
       "  <thead>\n",
       "    <tr style=\"text-align: right;\">\n",
       "      <th></th>\n",
       "      <th>Attribute_Used</th>\n",
       "      <th>Models</th>\n",
       "      <th>Accuracy</th>\n",
       "      <th>Precision Score</th>\n",
       "      <th>F1-Score</th>\n",
       "    </tr>\n",
       "  </thead>\n",
       "  <tbody>\n",
       "    <tr>\n",
       "      <th>0</th>\n",
       "      <td>Dropping Least Attribute</td>\n",
       "      <td>GaussianNB</td>\n",
       "      <td>0.174291</td>\n",
       "      <td>0.566981</td>\n",
       "      <td>0.210901</td>\n",
       "    </tr>\n",
       "    <tr>\n",
       "      <th>1</th>\n",
       "      <td>Dropping Least Attribute</td>\n",
       "      <td>RandomForest</td>\n",
       "      <td>0.875953</td>\n",
       "      <td>0.865629</td>\n",
       "      <td>0.867626</td>\n",
       "    </tr>\n",
       "    <tr>\n",
       "      <th>2</th>\n",
       "      <td>Dropping Least Attribute</td>\n",
       "      <td>MLPC</td>\n",
       "      <td>0.817791</td>\n",
       "      <td>0.802187</td>\n",
       "      <td>0.786938</td>\n",
       "    </tr>\n",
       "    <tr>\n",
       "      <th>3</th>\n",
       "      <td>Dropping Least Attribute</td>\n",
       "      <td>XGBClassifier</td>\n",
       "      <td>0.862463</td>\n",
       "      <td>0.866784</td>\n",
       "      <td>0.835551</td>\n",
       "    </tr>\n",
       "    <tr>\n",
       "      <th>4</th>\n",
       "      <td>Original Attribute</td>\n",
       "      <td>GaussianNB</td>\n",
       "      <td>0.163832</td>\n",
       "      <td>0.575003</td>\n",
       "      <td>0.200069</td>\n",
       "    </tr>\n",
       "    <tr>\n",
       "      <th>5</th>\n",
       "      <td>Original Attribute</td>\n",
       "      <td>RandomForest</td>\n",
       "      <td>0.909091</td>\n",
       "      <td>0.903335</td>\n",
       "      <td>0.902442</td>\n",
       "    </tr>\n",
       "    <tr>\n",
       "      <th>6</th>\n",
       "      <td>Original Attribute</td>\n",
       "      <td>MLPC</td>\n",
       "      <td>0.825122</td>\n",
       "      <td>0.798522</td>\n",
       "      <td>0.793935</td>\n",
       "    </tr>\n",
       "    <tr>\n",
       "      <th>7</th>\n",
       "      <td>Original Attribute</td>\n",
       "      <td>XGBClassifier</td>\n",
       "      <td>0.879472</td>\n",
       "      <td>0.882318</td>\n",
       "      <td>0.856659</td>\n",
       "    </tr>\n",
       "    <tr>\n",
       "      <th>8</th>\n",
       "      <td>Balanced Class</td>\n",
       "      <td>GaussianNB</td>\n",
       "      <td>0.363208</td>\n",
       "      <td>0.464272</td>\n",
       "      <td>0.349274</td>\n",
       "    </tr>\n",
       "    <tr>\n",
       "      <th>9</th>\n",
       "      <td>Balanced Class</td>\n",
       "      <td>RandomForest</td>\n",
       "      <td>0.687500</td>\n",
       "      <td>0.687063</td>\n",
       "      <td>0.679059</td>\n",
       "    </tr>\n",
       "    <tr>\n",
       "      <th>10</th>\n",
       "      <td>Balanced Class</td>\n",
       "      <td>MLPC</td>\n",
       "      <td>0.637972</td>\n",
       "      <td>0.633095</td>\n",
       "      <td>0.633146</td>\n",
       "    </tr>\n",
       "    <tr>\n",
       "      <th>11</th>\n",
       "      <td>Balanced Class</td>\n",
       "      <td>XGBClassifier</td>\n",
       "      <td>0.681604</td>\n",
       "      <td>0.677960</td>\n",
       "      <td>0.674299</td>\n",
       "    </tr>\n",
       "  </tbody>\n",
       "</table>\n",
       "</div>"
      ],
      "text/plain": [
       "              Attribute_Used         Models  Accuracy  Precision Score  \\\n",
       "0   Dropping Least Attribute     GaussianNB  0.174291         0.566981   \n",
       "1   Dropping Least Attribute   RandomForest  0.875953         0.865629   \n",
       "2   Dropping Least Attribute           MLPC  0.817791         0.802187   \n",
       "3   Dropping Least Attribute  XGBClassifier  0.862463         0.866784   \n",
       "4         Original Attribute     GaussianNB  0.163832         0.575003   \n",
       "5         Original Attribute   RandomForest  0.909091         0.903335   \n",
       "6         Original Attribute           MLPC  0.825122         0.798522   \n",
       "7         Original Attribute  XGBClassifier  0.879472         0.882318   \n",
       "8             Balanced Class     GaussianNB  0.363208         0.464272   \n",
       "9             Balanced Class   RandomForest  0.687500         0.687063   \n",
       "10            Balanced Class           MLPC  0.637972         0.633095   \n",
       "11            Balanced Class  XGBClassifier  0.681604         0.677960   \n",
       "\n",
       "    F1-Score  \n",
       "0   0.210901  \n",
       "1   0.867626  \n",
       "2   0.786938  \n",
       "3   0.835551  \n",
       "4   0.200069  \n",
       "5   0.902442  \n",
       "6   0.793935  \n",
       "7   0.856659  \n",
       "8   0.349274  \n",
       "9   0.679059  \n",
       "10  0.633146  \n",
       "11  0.674299  "
      ]
     },
     "execution_count": 82,
     "metadata": {},
     "output_type": "execute_result"
    }
   ],
   "source": [
    "dfmodelcomp = pd.DataFrame(data = data_m_plot, columns=['Attribute_Used', 'Models', 'Accuracy', 'Precision Score','F1-Score'])\n",
    "dfmodelcomp"
   ]
  },
  {
   "cell_type": "code",
   "execution_count": 83,
   "metadata": {},
   "outputs": [
    {
     "name": "stderr",
     "output_type": "stream",
     "text": [
      "C:\\Users\\rahul\\anaconda3\\lib\\site-packages\\seaborn\\categorical.py:3714: UserWarning: The `factorplot` function has been renamed to `catplot`. The original name will be removed in a future release. Please update your code. Note that the default `kind` in `factorplot` (`'point'`) has changed `'strip'` in `catplot`.\n",
      "  warnings.warn(msg)\n",
      "C:\\Users\\rahul\\anaconda3\\lib\\site-packages\\seaborn\\_decorators.py:36: FutureWarning: Pass the following variables as keyword args: x, y. From version 0.12, the only valid positional argument will be `data`, and passing other arguments without an explicit keyword will result in an error or misinterpretation.\n",
      "  warnings.warn(\n"
     ]
    },
    {
     "data": {
      "text/plain": [
       "<Figure size 1440x576 with 0 Axes>"
      ]
     },
     "metadata": {},
     "output_type": "display_data"
    },
    {
     "data": {
      "image/png": "[encoded data removed]",
      "text/plain": [
       "<Figure size 1440x360 with 4 Axes>"
      ]
     },
     "metadata": {
      "needs_background": "light"
     },
     "output_type": "display_data"
    }
   ],
   "source": [
    "plt.figure(figsize=(20,8))\n",
    "sns.factorplot('Attribute_Used','Accuracy', col='Models',data=dfmodelcomp, kind='bar')\n",
    "plt.savefig(\"modelsAccuracy.png\")"
   ]
  },
  {
   "cell_type": "code",
   "execution_count": 84,
   "metadata": {},
   "outputs": [
    {
     "name": "stderr",
     "output_type": "stream",
     "text": [
      "C:\\Users\\rahul\\anaconda3\\lib\\site-packages\\seaborn\\categorical.py:3714: UserWarning: The `factorplot` function has been renamed to `catplot`. The original name will be removed in a future release. Please update your code. Note that the default `kind` in `factorplot` (`'point'`) has changed `'strip'` in `catplot`.\n",
      "  warnings.warn(msg)\n",
      "C:\\Users\\rahul\\anaconda3\\lib\\site-packages\\seaborn\\_decorators.py:36: FutureWarning: Pass the following variables as keyword args: x, y. From version 0.12, the only valid positional argument will be `data`, and passing other arguments without an explicit keyword will result in an error or misinterpretation.\n",
      "  warnings.warn(\n"
     ]
    },
    {
     "data": {
      "text/plain": [
       "<Figure size 1440x576 with 0 Axes>"
      ]
     },
     "metadata": {},
     "output_type": "display_data"
    },
    {
     "data": {
      "image/png": "[encoded data removed]",
      "text/plain": [
       "<Figure size 1440x360 with 4 Axes>"
      ]
     },
     "metadata": {
      "needs_background": "light"
     },
     "output_type": "display_data"
    }
   ],
   "source": [
    "plt.figure(figsize=(20,8))\n",
    "sns.factorplot('Attribute_Used','Precision Score', col='Models',data=dfmodelcomp, kind='bar')\n",
    "plt.savefig(\"modelsPrecision.png\")"
   ]
  },
  {
   "cell_type": "code",
   "execution_count": 85,
   "metadata": {},
   "outputs": [
    {
     "name": "stderr",
     "output_type": "stream",
     "text": [
      "C:\\Users\\rahul\\anaconda3\\lib\\site-packages\\seaborn\\categorical.py:3714: UserWarning: The `factorplot` function has been renamed to `catplot`. The original name will be removed in a future release. Please update your code. Note that the default `kind` in `factorplot` (`'point'`) has changed `'strip'` in `catplot`.\n",
      "  warnings.warn(msg)\n",
      "C:\\Users\\rahul\\anaconda3\\lib\\site-packages\\seaborn\\_decorators.py:36: FutureWarning: Pass the following variables as keyword args: x, y. From version 0.12, the only valid positional argument will be `data`, and passing other arguments without an explicit keyword will result in an error or misinterpretation.\n",
      "  warnings.warn(\n"
     ]
    },
    {
     "data": {
      "text/plain": [
       "<Figure size 1440x576 with 0 Axes>"
      ]
     },
     "metadata": {},
     "output_type": "display_data"
    },
    {
     "data": {
      "image/png": "[encoded data removed]",
      "text/plain": [
       "<Figure size 1440x360 with 4 Axes>"
      ]
     },
     "metadata": {
      "needs_background": "light"
     },
     "output_type": "display_data"
    }
   ],
   "source": [
    "plt.figure(figsize=(20,8))\n",
    "sns.factorplot('Attribute_Used','F1-Score', col='Models',data=dfmodelcomp, kind='bar')\n",
    "plt.savefig(\"modelsf1score.png\")"
   ]
  },
  {
   "cell_type": "code",
   "execution_count": null,
   "metadata": {},
   "outputs": [],
   "source": []
  }
 ],
 "metadata": {
  "kernelspec": {
   "display_name": "Python 3",
   "language": "python",
   "name": "python3"
  },
  "language_info": {
   "codemirror_mode": {
    "name": "ipython",
    "version": 3
   },
   "file_extension": ".py",
   "mimetype": "text/x-python",
   "name": "python",
   "nbconvert_exporter": "python",
   "pygments_lexer": "ipython3",
   "version": "3.8.8"
  }
 },
 "nbformat": 4,
 "nbformat_minor": 2
}
